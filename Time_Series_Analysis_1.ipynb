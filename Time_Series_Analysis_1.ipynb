{
  "nbformat": 4,
  "nbformat_minor": 0,
  "metadata": {
    "colab": {
      "name": "Time Series Analysis 1.ipynb",
      "provenance": [],
      "collapsed_sections": [],
      "authorship_tag": "ABX9TyNXW2Qd6yhH6hn45aiL7F5l"
    },
    "kernelspec": {
      "name": "python3",
      "display_name": "Python 3"
    },
    "accelerator": "GPU"
  },
  "cells": [
    {
      "cell_type": "code",
      "metadata": {
        "id": "ntV6NcvwcrwG",
        "colab": {
          "resources": {
            "http://localhost:8080/nbextensions/google.colab/files.js": {
              "data": "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",
              "ok": true,
              "headers": [
                [
                  "content-type",
                  "application/javascript"
                ]
              ],
              "status": 200,
              "status_text": "OK"
            }
          },
          "base_uri": "https://localhost:8080/",
          "height": 75
        },
        "outputId": "0e4866cd-0eb3-49ab-87c1-3543a75c8208"
      },
      "source": [
        "from google.colab import files\n",
        "uploaded = files.upload()\n"
      ],
      "execution_count": null,
      "outputs": [
        {
          "output_type": "display_data",
          "data": {
            "text/html": [
              "\n",
              "     <input type=\"file\" id=\"files-1cc16cfe-62c5-48aa-ad88-6a012b2d6b96\" name=\"files[]\" multiple disabled\n",
              "        style=\"border:none\" />\n",
              "     <output id=\"result-1cc16cfe-62c5-48aa-ad88-6a012b2d6b96\">\n",
              "      Upload widget is only available when the cell has been executed in the\n",
              "      current browser session. Please rerun this cell to enable.\n",
              "      </output>\n",
              "      <script src=\"/nbextensions/google.colab/files.js\"></script> "
            ],
            "text/plain": [
              "<IPython.core.display.HTML object>"
            ]
          },
          "metadata": {
            "tags": []
          }
        },
        {
          "output_type": "stream",
          "text": [
            "Saving RELIANCE.BO.csv to RELIANCE.BO.csv\n"
          ],
          "name": "stdout"
        }
      ]
    },
    {
      "cell_type": "code",
      "metadata": {
        "id": "00dGhPHGcwMJ"
      },
      "source": [
        "import pandas as pd\n",
        "import numpy as np\n",
        "import matplotlib.pyplot as plt\n"
      ],
      "execution_count": null,
      "outputs": []
    },
    {
      "cell_type": "code",
      "metadata": {
        "id": "rZfBYpr1cwJn"
      },
      "source": [
        "data = pd.read_csv('RELIANCE.BO.csv')\n"
      ],
      "execution_count": null,
      "outputs": []
    },
    {
      "cell_type": "code",
      "metadata": {
        "id": "INftBoTycwHz",
        "colab": {
          "base_uri": "https://localhost:8080/",
          "height": 206
        },
        "outputId": "315d3a50-b3af-4cf2-e956-79b1c4eb75e9"
      },
      "source": [
        "data.head()\n"
      ],
      "execution_count": null,
      "outputs": [
        {
          "output_type": "execute_result",
          "data": {
            "text/html": [
              "<div>\n",
              "<style scoped>\n",
              "    .dataframe tbody tr th:only-of-type {\n",
              "        vertical-align: middle;\n",
              "    }\n",
              "\n",
              "    .dataframe tbody tr th {\n",
              "        vertical-align: top;\n",
              "    }\n",
              "\n",
              "    .dataframe thead th {\n",
              "        text-align: right;\n",
              "    }\n",
              "</style>\n",
              "<table border=\"1\" class=\"dataframe\">\n",
              "  <thead>\n",
              "    <tr style=\"text-align: right;\">\n",
              "      <th></th>\n",
              "      <th>Date</th>\n",
              "      <th>Open</th>\n",
              "      <th>High</th>\n",
              "      <th>Low</th>\n",
              "      <th>Close</th>\n",
              "      <th>Adj Close</th>\n",
              "      <th>Volume</th>\n",
              "    </tr>\n",
              "  </thead>\n",
              "  <tbody>\n",
              "    <tr>\n",
              "      <th>0</th>\n",
              "      <td>2016-05-02</td>\n",
              "      <td>490.700012</td>\n",
              "      <td>496.250000</td>\n",
              "      <td>488.524994</td>\n",
              "      <td>493.149994</td>\n",
              "      <td>482.155212</td>\n",
              "      <td>451034.0</td>\n",
              "    </tr>\n",
              "    <tr>\n",
              "      <th>1</th>\n",
              "      <td>2016-05-03</td>\n",
              "      <td>494.899994</td>\n",
              "      <td>497.350006</td>\n",
              "      <td>486.299988</td>\n",
              "      <td>488.024994</td>\n",
              "      <td>477.144531</td>\n",
              "      <td>564272.0</td>\n",
              "    </tr>\n",
              "    <tr>\n",
              "      <th>2</th>\n",
              "      <td>2016-05-04</td>\n",
              "      <td>488.000000</td>\n",
              "      <td>491.825012</td>\n",
              "      <td>487.125000</td>\n",
              "      <td>488.750000</td>\n",
              "      <td>477.853333</td>\n",
              "      <td>454560.0</td>\n",
              "    </tr>\n",
              "    <tr>\n",
              "      <th>3</th>\n",
              "      <td>2016-05-05</td>\n",
              "      <td>491.125000</td>\n",
              "      <td>491.750000</td>\n",
              "      <td>485.549988</td>\n",
              "      <td>487.524994</td>\n",
              "      <td>476.655609</td>\n",
              "      <td>506244.0</td>\n",
              "    </tr>\n",
              "    <tr>\n",
              "      <th>4</th>\n",
              "      <td>2016-05-06</td>\n",
              "      <td>487.500000</td>\n",
              "      <td>488.475006</td>\n",
              "      <td>483.750000</td>\n",
              "      <td>484.575012</td>\n",
              "      <td>473.771423</td>\n",
              "      <td>451776.0</td>\n",
              "    </tr>\n",
              "  </tbody>\n",
              "</table>\n",
              "</div>"
            ],
            "text/plain": [
              "         Date        Open        High  ...       Close   Adj Close    Volume\n",
              "0  2016-05-02  490.700012  496.250000  ...  493.149994  482.155212  451034.0\n",
              "1  2016-05-03  494.899994  497.350006  ...  488.024994  477.144531  564272.0\n",
              "2  2016-05-04  488.000000  491.825012  ...  488.750000  477.853333  454560.0\n",
              "3  2016-05-05  491.125000  491.750000  ...  487.524994  476.655609  506244.0\n",
              "4  2016-05-06  487.500000  488.475006  ...  484.575012  473.771423  451776.0\n",
              "\n",
              "[5 rows x 7 columns]"
            ]
          },
          "metadata": {
            "tags": []
          },
          "execution_count": 5
        }
      ]
    },
    {
      "cell_type": "code",
      "metadata": {
        "id": "b8mv089XcwF0",
        "colab": {
          "base_uri": "https://localhost:8080/",
          "height": 206
        },
        "outputId": "b8eaaa2d-cb50-4e80-9d2a-6f03e472fa73"
      },
      "source": [
        "data.tail()"
      ],
      "execution_count": null,
      "outputs": [
        {
          "output_type": "execute_result",
          "data": {
            "text/html": [
              "<div>\n",
              "<style scoped>\n",
              "    .dataframe tbody tr th:only-of-type {\n",
              "        vertical-align: middle;\n",
              "    }\n",
              "\n",
              "    .dataframe tbody tr th {\n",
              "        vertical-align: top;\n",
              "    }\n",
              "\n",
              "    .dataframe thead th {\n",
              "        text-align: right;\n",
              "    }\n",
              "</style>\n",
              "<table border=\"1\" class=\"dataframe\">\n",
              "  <thead>\n",
              "    <tr style=\"text-align: right;\">\n",
              "      <th></th>\n",
              "      <th>Date</th>\n",
              "      <th>Open</th>\n",
              "      <th>High</th>\n",
              "      <th>Low</th>\n",
              "      <th>Close</th>\n",
              "      <th>Adj Close</th>\n",
              "      <th>Volume</th>\n",
              "    </tr>\n",
              "  </thead>\n",
              "  <tbody>\n",
              "    <tr>\n",
              "      <th>1103</th>\n",
              "      <td>2020-10-19</td>\n",
              "      <td>2192.000000</td>\n",
              "      <td>2228.399902</td>\n",
              "      <td>2156.000000</td>\n",
              "      <td>2175.800049</td>\n",
              "      <td>2175.800049</td>\n",
              "      <td>352226.0</td>\n",
              "    </tr>\n",
              "    <tr>\n",
              "      <th>1104</th>\n",
              "      <td>2020-10-20</td>\n",
              "      <td>2183.699951</td>\n",
              "      <td>2193.699951</td>\n",
              "      <td>2152.199951</td>\n",
              "      <td>2155.500000</td>\n",
              "      <td>2155.500000</td>\n",
              "      <td>364138.0</td>\n",
              "    </tr>\n",
              "    <tr>\n",
              "      <th>1105</th>\n",
              "      <td>2020-10-21</td>\n",
              "      <td>2171.100098</td>\n",
              "      <td>2191.000000</td>\n",
              "      <td>2098.750000</td>\n",
              "      <td>2123.250000</td>\n",
              "      <td>2123.250000</td>\n",
              "      <td>534557.0</td>\n",
              "    </tr>\n",
              "    <tr>\n",
              "      <th>1106</th>\n",
              "      <td>2020-10-22</td>\n",
              "      <td>2123.000000</td>\n",
              "      <td>2133.050049</td>\n",
              "      <td>2091.500000</td>\n",
              "      <td>2107.100098</td>\n",
              "      <td>2107.100098</td>\n",
              "      <td>301966.0</td>\n",
              "    </tr>\n",
              "    <tr>\n",
              "      <th>1107</th>\n",
              "      <td>2020-10-23</td>\n",
              "      <td>2109.000000</td>\n",
              "      <td>2134.800049</td>\n",
              "      <td>2095.649902</td>\n",
              "      <td>2112.550049</td>\n",
              "      <td>2112.550049</td>\n",
              "      <td>618540.0</td>\n",
              "    </tr>\n",
              "  </tbody>\n",
              "</table>\n",
              "</div>"
            ],
            "text/plain": [
              "            Date         Open         High  ...        Close    Adj Close    Volume\n",
              "1103  2020-10-19  2192.000000  2228.399902  ...  2175.800049  2175.800049  352226.0\n",
              "1104  2020-10-20  2183.699951  2193.699951  ...  2155.500000  2155.500000  364138.0\n",
              "1105  2020-10-21  2171.100098  2191.000000  ...  2123.250000  2123.250000  534557.0\n",
              "1106  2020-10-22  2123.000000  2133.050049  ...  2107.100098  2107.100098  301966.0\n",
              "1107  2020-10-23  2109.000000  2134.800049  ...  2112.550049  2112.550049  618540.0\n",
              "\n",
              "[5 rows x 7 columns]"
            ]
          },
          "metadata": {
            "tags": []
          },
          "execution_count": 6
        }
      ]
    },
    {
      "cell_type": "code",
      "metadata": {
        "id": "VHmyEEp5cwDu"
      },
      "source": [
        "#We have data from 5 Feb 2016 to 26 June 2020\n",
        "data_close = data.reset_index()['Close']        # Taking the close column of the dataset\n",
        "data_close = data_close.replace(to_replace = np.nan, value = data_close.mean())    # Replacing nan values with mean of the column\n"
      ],
      "execution_count": null,
      "outputs": []
    },
    {
      "cell_type": "code",
      "metadata": {
        "id": "Fh2-zwxHcwBi",
        "colab": {
          "base_uri": "https://localhost:8080/",
          "height": 35
        },
        "outputId": "a05cde7d-fcf3-417b-c85b-7d641ba79a5b"
      },
      "source": [
        "data_close.isnull().values.any()        # Checking for NaN values"
      ],
      "execution_count": null,
      "outputs": [
        {
          "output_type": "execute_result",
          "data": {
            "text/plain": [
              "False"
            ]
          },
          "metadata": {
            "tags": []
          },
          "execution_count": 10
        }
      ]
    },
    {
      "cell_type": "code",
      "metadata": {
        "id": "1bh3bPydcv-h",
        "colab": {
          "base_uri": "https://localhost:8080/",
          "height": 283
        },
        "outputId": "a098493e-219c-44eb-a705-00a4adc52172"
      },
      "source": [
        "plt.plot(data_close)"
      ],
      "execution_count": null,
      "outputs": [
        {
          "output_type": "execute_result",
          "data": {
            "text/plain": [
              "[<matplotlib.lines.Line2D at 0x7fc224abbef0>]"
            ]
          },
          "metadata": {
            "tags": []
          },
          "execution_count": 11
        },
        {
          "output_type": "display_data",
          "data": {
            "image/png": "[encoded data removed]",
            "text/plain": [
              "<Figure size 432x288 with 1 Axes>"
            ]
          },
          "metadata": {
            "tags": [],
            "needs_background": "light"
          }
        }
      ]
    },
    {
      "cell_type": "code",
      "metadata": {
        "id": "lFQuHs2Jfxe5"
      },
      "source": [
        "#LSTM are sensitive to Scale of data, we scale down values to interval (0,1)\n",
        "from sklearn.preprocessing import MinMaxScaler\n",
        "scaler = MinMaxScaler(feature_range = (0,1))\n",
        "data_close = scaler.fit_transform(np.array(data_close).reshape(-1,1))"
      ],
      "execution_count": null,
      "outputs": []
    },
    {
      "cell_type": "code",
      "metadata": {
        "id": "rMk3U8Phfxct",
        "colab": {
          "base_uri": "https://localhost:8080/",
          "height": 146
        },
        "outputId": "72beb355-5091-44b0-fcc5-8d5c2305fd51"
      },
      "source": [
        "data_close"
      ],
      "execution_count": null,
      "outputs": [
        {
          "output_type": "execute_result",
          "data": {
            "text/plain": [
              "array([[0.01514377],\n",
              "       [0.01238669],\n",
              "       [0.01277672],\n",
              "       ...,\n",
              "       [0.89208377],\n",
              "       [0.88339565],\n",
              "       [0.88632755]])"
            ]
          },
          "metadata": {
            "tags": []
          },
          "execution_count": 87
        }
      ]
    },
    {
      "cell_type": "code",
      "metadata": {
        "id": "lS2hXjuKfxaK"
      },
      "source": [
        "# Splitting data in Test Train set\n",
        "training_size = int(len(data_close) * 0.65)\n",
        "test_size = len(data_close) - training_size\n",
        "train_data, test_data = data_close[0 : training_size, :],data_close[training_size : len(data_close), : 1]"
      ],
      "execution_count": null,
      "outputs": []
    },
    {
      "cell_type": "code",
      "metadata": {
        "id": "roimG4xXfxWO"
      },
      "source": [
        "def  create_dataset(dataset, time_step):\n",
        "  data_X, data_Y = [], []\n",
        "  for i in range(len(dataset) - time_step - 1):\n",
        "    a = dataset[i : (i + time_step), 0]\n",
        "    data_X.append(a)\n",
        "    data_Y.append(dataset[i + time_step, 0 ])\n",
        "  return np.array(data_X), np.array(data_Y)\n"
      ],
      "execution_count": null,
      "outputs": []
    },
    {
      "cell_type": "code",
      "metadata": {
        "id": "JYWAWOVAiyST"
      },
      "source": [
        "time_step = 100\n",
        "X_train, y_train = create_dataset(train_data, time_step)\n",
        "X_test, y_test = create_dataset(test_data, time_step)"
      ],
      "execution_count": null,
      "outputs": []
    },
    {
      "cell_type": "code",
      "metadata": {
        "id": "cW8tR72uiyPu"
      },
      "source": [
        ""
      ],
      "execution_count": null,
      "outputs": []
    },
    {
      "cell_type": "code",
      "metadata": {
        "id": "GkgRAvlviyNv",
        "colab": {
          "base_uri": "https://localhost:8080/",
          "height": 35
        },
        "outputId": "fd59e52f-3d60-4438-d90e-8863113f8e18"
      },
      "source": [
        "np.isnan(np.min(X_test))"
      ],
      "execution_count": null,
      "outputs": [
        {
          "output_type": "execute_result",
          "data": {
            "text/plain": [
              "False"
            ]
          },
          "metadata": {
            "tags": []
          },
          "execution_count": 91
        }
      ]
    },
    {
      "cell_type": "code",
      "metadata": {
        "id": "o_YuJhokiyKJ",
        "colab": {
          "base_uri": "https://localhost:8080/",
          "height": 35
        },
        "outputId": "6a771341-1638-4f8c-8b76-177fc6b9236e"
      },
      "source": [
        "np.isnan(np.min(X_test))"
      ],
      "execution_count": null,
      "outputs": [
        {
          "output_type": "execute_result",
          "data": {
            "text/plain": [
              "False"
            ]
          },
          "metadata": {
            "tags": []
          },
          "execution_count": 92
        }
      ]
    },
    {
      "cell_type": "code",
      "metadata": {
        "id": "aGsu1b7miyHp"
      },
      "source": [
        "# Reshaping the data for LSTM\n",
        "X_train = X_train.reshape(X_train.shape[0], X_train.shape[1], 1)\n",
        "X_test = X_test.reshape(X_test.shape[0], X_test.shape[1], 1)"
      ],
      "execution_count": null,
      "outputs": []
    },
    {
      "cell_type": "code",
      "metadata": {
        "id": "uOpb5_oTy6Qq",
        "colab": {
          "base_uri": "https://localhost:8080/",
          "height": 1000
        },
        "outputId": "a42240ff-03a2-4b02-9db0-4dbf6d09a39c"
      },
      "source": [
        "y_test[94] = 0.756400\n",
        "y_test"
      ],
      "execution_count": null,
      "outputs": [
        {
          "output_type": "execute_result",
          "data": {
            "text/plain": [
              "array([0.43580705, 0.42932459, 0.41810792, 0.42141643, 0.39857976,\n",
              "       0.39623962, 0.39449122, 0.40751   , 0.4072948 , 0.4137504 ,\n",
              "       0.40097369, 0.40915082, 0.40121581, 0.39389941, 0.39847213,\n",
              "       0.38394702, 0.42467116, 0.41619818, 0.43766307, 0.43833553,\n",
              "       0.44737334, 0.45390965, 0.46674015, 0.4519192 , 0.45512008,\n",
              "       0.45321027, 0.45447454, 0.46305509, 0.48277159, 0.47739192,\n",
              "       0.48021625, 0.48325578, 0.48831261, 0.50092798, 0.51123006,\n",
              "       0.51066517, 0.49915266, 0.52250044, 0.5195147 , 0.32763362,\n",
              "       0.53909671, 0.54533712, 0.53753659, 0.53366326, 0.53379775,\n",
              "       0.52860636, 0.52026787, 0.53463163, 0.52739593, 0.51795465,\n",
              "       0.54173276, 0.53710626, 0.54028028, 0.53447021, 0.56206794,\n",
              "       0.58210721, 0.57683511, 0.58175752, 0.58945041, 0.58845518,\n",
              "       0.59431904, 0.59980627, 0.58417837, 0.60322242, 0.59921452,\n",
              "       0.58506603, 0.58385561, 0.5863571 , 0.59582537, 0.59025736,\n",
              "       0.59047256, 0.59310861, 0.60115119, 0.59259757, 0.5902305 ,\n",
              "       0.59751991, 0.61336308, 0.61026977, 0.5949915 , 0.5815154 ,\n",
              "       0.56537639, 0.57947116, 0.58057395, 0.56438116, 0.56201409,\n",
              "       0.57581296, 0.57683511, 0.55760279, 0.57027194, 0.56430045,\n",
              "       0.58259133, 0.58245684, 0.58017048, 0.57242381, 0.7564    ,\n",
              "       0.57707717, 0.60018289, 0.57401078, 0.57505979, 0.57460253,\n",
              "       0.57132095, 0.5684697 , 0.56034641, 0.54138307, 0.54587508,\n",
              "       0.52586274, 0.50929333, 0.49538689, 0.51690557, 0.52884848,\n",
              "       0.53401295, 0.52115553, 0.52276943, 0.53129619, 0.54065683,\n",
              "       0.54278177, 0.54961399, 0.54517576, 0.53855875, 0.55905527,\n",
              "       0.54899532, 0.52712695, 0.51176803, 0.49837264, 0.49536003,\n",
              "       0.46461521, 0.45719124, 0.47268471, 0.47026386, 0.45538906,\n",
              "       0.43309036, 0.43309036, 0.37025578, 0.3209511 , 0.34532103,\n",
              "       0.29601634, 0.29260026, 0.27105466, 0.24321487, 0.29867928,\n",
              "       0.22532746, 0.25720201, 0.33152216, 0.32802537, 0.32304918,\n",
              "       0.30521556, 0.3483067 , 0.33119939, 0.32988133, 0.39884874,\n",
              "       0.39118271, 0.40573468, 0.3896226 , 0.36853432, 0.37856735,\n",
              "       0.40888184, 0.41931835, 0.41479948, 0.48328264, 0.48766708,\n",
              "       0.51233285, 0.51929957, 0.518116  , 0.51709385, 0.53162973,\n",
              "       0.51476448, 0.52840731, 0.52875162, 0.55305161, 0.5821233 ,\n",
              "       0.59009062, 0.53866638, 0.55485917, 0.52207004, 0.53468541,\n",
              "       0.52486751, 0.50738358, 0.52163971, 0.52454474, 0.51999888,\n",
              "       0.51574893, 0.52825666, 0.54208245, 0.53807456, 0.56779724,\n",
              "       0.57621643, 0.57963251, 0.59980627, 0.60015597, 0.59448045,\n",
              "       0.5767544 , 0.59552946, 0.5769696 , 0.60456733, 0.61866204,\n",
              "       0.62000696, 0.61887724, 0.64085318, 0.69639827, 0.68978125,\n",
              "       0.6751755 , 0.67910262, 0.67404572, 0.68730662, 0.67684319,\n",
              "       0.66619141, 0.6847782 , 0.69696317, 0.71146135, 0.74583745,\n",
              "       0.73107022, 0.71676031, 0.73141991, 0.76041635, 0.79043493,\n",
              "       0.7809398 , 0.74271722, 0.7413723 , 0.77808855, 0.78236543,\n",
              "       0.81063555, 0.82798499, 0.85840698, 0.90443008, 0.90962154,\n",
              "       0.92124155, 0.87734353, 0.8842294 , 0.8617962 , 0.83032513,\n",
              "       0.90709299, 0.8939128 , 0.89816282, 0.90469907, 0.89012024,\n",
              "       0.89789384, 0.89442398, 0.89157273, 0.88716142, 0.87497639,\n",
              "       0.88966292, 0.89743651, 0.87761251, 0.86975814, 0.87745109,\n",
              "       0.86989263, 0.89940017, 0.88587022, 0.88796837, 0.86803667,\n",
              "       0.87287837, 0.89496194, 0.88611228, 0.86741793, 0.87010776,\n",
              "       0.88336873, 0.91252651, 0.9950506 , 0.99731017, 0.98843371,\n",
              "       0.99679899, 1.        , 0.98681981, 0.99012825, 0.96304156,\n",
              "       0.93937101, 0.94926969, 0.923232  , 0.93428725, 0.94184572,\n",
              "       0.95750061, 0.95152912, 0.94684883, 0.93937101, 0.93883305,\n",
              "       0.9641175 , 0.9542996 , 0.9515022 , 0.95306238, 0.97654459,\n",
              "       0.9803642 , 0.93635848, 0.92019254, 0.92035396, 0.9094332 ,\n",
              "       0.89208377, 0.88339565])"
            ]
          },
          "metadata": {
            "tags": []
          },
          "execution_count": 94
        }
      ]
    },
    {
      "cell_type": "code",
      "metadata": {
        "id": "fIr-glPT2HTH",
        "colab": {
          "base_uri": "https://localhost:8080/",
          "height": 35
        },
        "outputId": "168c3d42-9fbc-47e2-e202-15b99e5f9364"
      },
      "source": [
        "X_test.shape"
      ],
      "execution_count": null,
      "outputs": [
        {
          "output_type": "execute_result",
          "data": {
            "text/plain": [
              "(287, 100, 1)"
            ]
          },
          "metadata": {
            "tags": []
          },
          "execution_count": 96
        }
      ]
    },
    {
      "cell_type": "code",
      "metadata": {
        "id": "qmG1jEnriyFi"
      },
      "source": [
        "from tensorflow.keras.layers import Dense\n",
        "from tensorflow.keras.layers import LSTM\n",
        "from tensorflow.keras.models import Sequential"
      ],
      "execution_count": null,
      "outputs": []
    },
    {
      "cell_type": "code",
      "metadata": {
        "id": "TVOC_QcQiyDN"
      },
      "source": [
        "model = Sequential()\n",
        "model.add(LSTM(50, return_sequences = True, input_shape = (100, 1)))\n",
        "model.add(LSTM(50, return_sequences = True))\n",
        "model.add(LSTM(50))\n",
        "model.add(Dense(1))\n",
        "model.compile(loss = 'mean_squared_error', optimizer = 'adam')"
      ],
      "execution_count": null,
      "outputs": []
    },
    {
      "cell_type": "code",
      "metadata": {
        "id": "CCls7NWuix_y",
        "colab": {
          "base_uri": "https://localhost:8080/",
          "height": 313
        },
        "outputId": "36cc7bd6-eb81-4f68-de2f-6e2800575890"
      },
      "source": [
        "model.summary()"
      ],
      "execution_count": null,
      "outputs": [
        {
          "output_type": "stream",
          "text": [
            "Model: \"sequential_1\"\n",
            "_________________________________________________________________\n",
            "Layer (type)                 Output Shape              Param #   \n",
            "=================================================================\n",
            "lstm_3 (LSTM)                (None, 100, 50)           10400     \n",
            "_________________________________________________________________\n",
            "lstm_4 (LSTM)                (None, 100, 50)           20200     \n",
            "_________________________________________________________________\n",
            "lstm_5 (LSTM)                (None, 50)                20200     \n",
            "_________________________________________________________________\n",
            "dense_1 (Dense)              (None, 1)                 51        \n",
            "=================================================================\n",
            "Total params: 50,851\n",
            "Trainable params: 50,851\n",
            "Non-trainable params: 0\n",
            "_________________________________________________________________\n"
          ],
          "name": "stdout"
        }
      ]
    },
    {
      "cell_type": "code",
      "metadata": {
        "id": "YWB1KH9RfxRV",
        "colab": {
          "base_uri": "https://localhost:8080/",
          "height": 1000
        },
        "outputId": "f39e3165-1b2f-4520-9f45-153e786f2783"
      },
      "source": [
        "model.fit(X_train, y_train, validation_data = (X_test, y_test) , epochs = 100, batch_size =  64, verbose = 1 )"
      ],
      "execution_count": null,
      "outputs": [
        {
          "output_type": "stream",
          "text": [
            "Epoch 1/100\n",
            "10/10 [==============================] - 1s 121ms/step - loss: 0.0274 - val_loss: 0.0099\n",
            "Epoch 2/100\n",
            "10/10 [==============================] - 0s 19ms/step - loss: 0.0055 - val_loss: 0.0326\n",
            "Epoch 3/100\n",
            "10/10 [==============================] - 0s 16ms/step - loss: 0.0024 - val_loss: 0.0175\n",
            "Epoch 4/100\n",
            "10/10 [==============================] - 0s 17ms/step - loss: 0.0011 - val_loss: 0.0054\n",
            "Epoch 5/100\n",
            "10/10 [==============================] - 0s 16ms/step - loss: 7.9754e-04 - val_loss: 0.0062\n",
            "Epoch 6/100\n",
            "10/10 [==============================] - 0s 19ms/step - loss: 6.2608e-04 - val_loss: 0.0067\n",
            "Epoch 7/100\n",
            "10/10 [==============================] - 0s 19ms/step - loss: 5.9823e-04 - val_loss: 0.0072\n",
            "Epoch 8/100\n",
            "10/10 [==============================] - 0s 19ms/step - loss: 5.9279e-04 - val_loss: 0.0060\n",
            "Epoch 9/100\n",
            "10/10 [==============================] - 0s 19ms/step - loss: 5.8359e-04 - val_loss: 0.0072\n",
            "Epoch 10/100\n",
            "10/10 [==============================] - 0s 18ms/step - loss: 6.1010e-04 - val_loss: 0.0065\n",
            "Epoch 11/100\n",
            "10/10 [==============================] - 0s 16ms/step - loss: 5.8235e-04 - val_loss: 0.0057\n",
            "Epoch 12/100\n",
            "10/10 [==============================] - 0s 16ms/step - loss: 6.2255e-04 - val_loss: 0.0067\n",
            "Epoch 13/100\n",
            "10/10 [==============================] - 0s 17ms/step - loss: 6.0033e-04 - val_loss: 0.0066\n",
            "Epoch 14/100\n",
            "10/10 [==============================] - 0s 17ms/step - loss: 5.7852e-04 - val_loss: 0.0076\n",
            "Epoch 15/100\n",
            "10/10 [==============================] - 0s 17ms/step - loss: 5.6675e-04 - val_loss: 0.0074\n",
            "Epoch 16/100\n",
            "10/10 [==============================] - 0s 19ms/step - loss: 5.4778e-04 - val_loss: 0.0057\n",
            "Epoch 17/100\n",
            "10/10 [==============================] - 0s 22ms/step - loss: 5.6208e-04 - val_loss: 0.0048\n",
            "Epoch 18/100\n",
            "10/10 [==============================] - 0s 19ms/step - loss: 5.8524e-04 - val_loss: 0.0054\n",
            "Epoch 19/100\n",
            "10/10 [==============================] - 0s 19ms/step - loss: 5.2638e-04 - val_loss: 0.0061\n",
            "Epoch 20/100\n",
            "10/10 [==============================] - 0s 18ms/step - loss: 5.1553e-04 - val_loss: 0.0053\n",
            "Epoch 21/100\n",
            "10/10 [==============================] - 0s 17ms/step - loss: 5.2175e-04 - val_loss: 0.0052\n",
            "Epoch 22/100\n",
            "10/10 [==============================] - 0s 16ms/step - loss: 5.0014e-04 - val_loss: 0.0050\n",
            "Epoch 23/100\n",
            "10/10 [==============================] - 0s 17ms/step - loss: 4.9415e-04 - val_loss: 0.0048\n",
            "Epoch 24/100\n",
            "10/10 [==============================] - 0s 16ms/step - loss: 5.0458e-04 - val_loss: 0.0048\n",
            "Epoch 25/100\n",
            "10/10 [==============================] - 0s 18ms/step - loss: 4.7427e-04 - val_loss: 0.0045\n",
            "Epoch 26/100\n",
            "10/10 [==============================] - 0s 17ms/step - loss: 4.7165e-04 - val_loss: 0.0041\n",
            "Epoch 27/100\n",
            "10/10 [==============================] - 0s 17ms/step - loss: 4.8494e-04 - val_loss: 0.0043\n",
            "Epoch 28/100\n",
            "10/10 [==============================] - 0s 17ms/step - loss: 4.4937e-04 - val_loss: 0.0055\n",
            "Epoch 29/100\n",
            "10/10 [==============================] - 0s 16ms/step - loss: 4.6851e-04 - val_loss: 0.0047\n",
            "Epoch 30/100\n",
            "10/10 [==============================] - 0s 18ms/step - loss: 4.4232e-04 - val_loss: 0.0040\n",
            "Epoch 31/100\n",
            "10/10 [==============================] - 0s 17ms/step - loss: 4.2644e-04 - val_loss: 0.0040\n",
            "Epoch 32/100\n",
            "10/10 [==============================] - 0s 17ms/step - loss: 4.2053e-04 - val_loss: 0.0039\n",
            "Epoch 33/100\n",
            "10/10 [==============================] - 0s 16ms/step - loss: 4.2125e-04 - val_loss: 0.0031\n",
            "Epoch 34/100\n",
            "10/10 [==============================] - 0s 19ms/step - loss: 4.9200e-04 - val_loss: 0.0040\n",
            "Epoch 35/100\n",
            "10/10 [==============================] - 0s 18ms/step - loss: 4.1591e-04 - val_loss: 0.0046\n",
            "Epoch 36/100\n",
            "10/10 [==============================] - 0s 17ms/step - loss: 4.3197e-04 - val_loss: 0.0049\n",
            "Epoch 37/100\n",
            "10/10 [==============================] - 0s 19ms/step - loss: 3.9685e-04 - val_loss: 0.0032\n",
            "Epoch 38/100\n",
            "10/10 [==============================] - 0s 19ms/step - loss: 3.8823e-04 - val_loss: 0.0040\n",
            "Epoch 39/100\n",
            "10/10 [==============================] - 0s 21ms/step - loss: 3.8648e-04 - val_loss: 0.0041\n",
            "Epoch 40/100\n",
            "10/10 [==============================] - 0s 19ms/step - loss: 3.6246e-04 - val_loss: 0.0027\n",
            "Epoch 41/100\n",
            "10/10 [==============================] - 0s 17ms/step - loss: 3.6881e-04 - val_loss: 0.0037\n",
            "Epoch 42/100\n",
            "10/10 [==============================] - 0s 17ms/step - loss: 3.6492e-04 - val_loss: 0.0041\n",
            "Epoch 43/100\n",
            "10/10 [==============================] - 0s 16ms/step - loss: 3.5884e-04 - val_loss: 0.0026\n",
            "Epoch 44/100\n",
            "10/10 [==============================] - 0s 17ms/step - loss: 3.5247e-04 - val_loss: 0.0046\n",
            "Epoch 45/100\n",
            "10/10 [==============================] - 0s 17ms/step - loss: 3.4306e-04 - val_loss: 0.0038\n",
            "Epoch 46/100\n",
            "10/10 [==============================] - 0s 16ms/step - loss: 3.4745e-04 - val_loss: 0.0027\n",
            "Epoch 47/100\n",
            "10/10 [==============================] - 0s 16ms/step - loss: 3.4193e-04 - val_loss: 0.0033\n",
            "Epoch 48/100\n",
            "10/10 [==============================] - 0s 16ms/step - loss: 3.4500e-04 - val_loss: 0.0026\n",
            "Epoch 49/100\n",
            "10/10 [==============================] - 0s 17ms/step - loss: 3.4356e-04 - val_loss: 0.0026\n",
            "Epoch 50/100\n",
            "10/10 [==============================] - 0s 16ms/step - loss: 3.2402e-04 - val_loss: 0.0040\n",
            "Epoch 51/100\n",
            "10/10 [==============================] - 0s 17ms/step - loss: 3.3915e-04 - val_loss: 0.0027\n",
            "Epoch 52/100\n",
            "10/10 [==============================] - 0s 17ms/step - loss: 4.0088e-04 - val_loss: 0.0035\n",
            "Epoch 53/100\n",
            "10/10 [==============================] - 0s 17ms/step - loss: 3.8636e-04 - val_loss: 0.0029\n",
            "Epoch 54/100\n",
            "10/10 [==============================] - 0s 16ms/step - loss: 3.3410e-04 - val_loss: 0.0022\n",
            "Epoch 55/100\n",
            "10/10 [==============================] - 0s 17ms/step - loss: 3.2400e-04 - val_loss: 0.0033\n",
            "Epoch 56/100\n",
            "10/10 [==============================] - 0s 16ms/step - loss: 3.0687e-04 - val_loss: 0.0028\n",
            "Epoch 57/100\n",
            "10/10 [==============================] - 0s 17ms/step - loss: 2.9954e-04 - val_loss: 0.0039\n",
            "Epoch 58/100\n",
            "10/10 [==============================] - 0s 17ms/step - loss: 3.1629e-04 - val_loss: 0.0028\n",
            "Epoch 59/100\n",
            "10/10 [==============================] - 0s 17ms/step - loss: 3.1796e-04 - val_loss: 0.0018\n",
            "Epoch 60/100\n",
            "10/10 [==============================] - 0s 17ms/step - loss: 3.2676e-04 - val_loss: 0.0028\n",
            "Epoch 61/100\n",
            "10/10 [==============================] - 0s 17ms/step - loss: 3.0001e-04 - val_loss: 0.0031\n",
            "Epoch 62/100\n",
            "10/10 [==============================] - 0s 17ms/step - loss: 3.1022e-04 - val_loss: 0.0030\n",
            "Epoch 63/100\n",
            "10/10 [==============================] - 0s 17ms/step - loss: 2.8583e-04 - val_loss: 0.0028\n",
            "Epoch 64/100\n",
            "10/10 [==============================] - 0s 21ms/step - loss: 2.8140e-04 - val_loss: 0.0026\n",
            "Epoch 65/100\n",
            "10/10 [==============================] - 0s 19ms/step - loss: 2.9501e-04 - val_loss: 0.0027\n",
            "Epoch 66/100\n",
            "10/10 [==============================] - 0s 19ms/step - loss: 3.2468e-04 - val_loss: 0.0042\n",
            "Epoch 67/100\n",
            "10/10 [==============================] - 0s 16ms/step - loss: 3.5698e-04 - val_loss: 0.0036\n",
            "Epoch 68/100\n",
            "10/10 [==============================] - 0s 17ms/step - loss: 2.8922e-04 - val_loss: 0.0019\n",
            "Epoch 69/100\n",
            "10/10 [==============================] - 0s 16ms/step - loss: 3.5177e-04 - val_loss: 0.0026\n",
            "Epoch 70/100\n",
            "10/10 [==============================] - 0s 17ms/step - loss: 3.1462e-04 - val_loss: 0.0036\n",
            "Epoch 71/100\n",
            "10/10 [==============================] - 0s 17ms/step - loss: 2.8754e-04 - val_loss: 0.0027\n",
            "Epoch 72/100\n",
            "10/10 [==============================] - 0s 18ms/step - loss: 2.7620e-04 - val_loss: 0.0026\n",
            "Epoch 73/100\n",
            "10/10 [==============================] - 0s 17ms/step - loss: 2.9587e-04 - val_loss: 0.0027\n",
            "Epoch 74/100\n",
            "10/10 [==============================] - 0s 17ms/step - loss: 2.9530e-04 - val_loss: 0.0035\n",
            "Epoch 75/100\n",
            "10/10 [==============================] - 0s 17ms/step - loss: 2.8681e-04 - val_loss: 0.0017\n",
            "Epoch 76/100\n",
            "10/10 [==============================] - 0s 17ms/step - loss: 2.9546e-04 - val_loss: 0.0030\n",
            "Epoch 77/100\n",
            "10/10 [==============================] - 0s 18ms/step - loss: 3.2279e-04 - val_loss: 0.0020\n",
            "Epoch 78/100\n",
            "10/10 [==============================] - 0s 18ms/step - loss: 2.9673e-04 - val_loss: 0.0018\n",
            "Epoch 79/100\n",
            "10/10 [==============================] - 0s 17ms/step - loss: 2.7868e-04 - val_loss: 0.0035\n",
            "Epoch 80/100\n",
            "10/10 [==============================] - 0s 17ms/step - loss: 2.7541e-04 - val_loss: 0.0023\n",
            "Epoch 81/100\n",
            "10/10 [==============================] - 0s 17ms/step - loss: 2.6095e-04 - val_loss: 0.0024\n",
            "Epoch 82/100\n",
            "10/10 [==============================] - 0s 16ms/step - loss: 2.6341e-04 - val_loss: 0.0023\n",
            "Epoch 83/100\n",
            "10/10 [==============================] - 0s 18ms/step - loss: 2.5821e-04 - val_loss: 0.0021\n",
            "Epoch 84/100\n",
            "10/10 [==============================] - 0s 17ms/step - loss: 2.7452e-04 - val_loss: 0.0018\n",
            "Epoch 85/100\n",
            "10/10 [==============================] - 0s 17ms/step - loss: 2.5751e-04 - val_loss: 0.0022\n",
            "Epoch 86/100\n",
            "10/10 [==============================] - 0s 18ms/step - loss: 2.5658e-04 - val_loss: 0.0022\n",
            "Epoch 87/100\n",
            "10/10 [==============================] - 0s 17ms/step - loss: 2.6696e-04 - val_loss: 0.0029\n",
            "Epoch 88/100\n",
            "10/10 [==============================] - 0s 16ms/step - loss: 2.6660e-04 - val_loss: 0.0017\n",
            "Epoch 89/100\n",
            "10/10 [==============================] - 0s 17ms/step - loss: 2.5648e-04 - val_loss: 0.0023\n",
            "Epoch 90/100\n",
            "10/10 [==============================] - 0s 18ms/step - loss: 2.5093e-04 - val_loss: 0.0025\n",
            "Epoch 91/100\n",
            "10/10 [==============================] - 0s 20ms/step - loss: 2.6212e-04 - val_loss: 0.0019\n",
            "Epoch 92/100\n",
            "10/10 [==============================] - 0s 19ms/step - loss: 2.5375e-04 - val_loss: 0.0017\n",
            "Epoch 93/100\n",
            "10/10 [==============================] - 0s 17ms/step - loss: 2.8676e-04 - val_loss: 0.0032\n",
            "Epoch 94/100\n",
            "10/10 [==============================] - 0s 18ms/step - loss: 2.7657e-04 - val_loss: 0.0015\n",
            "Epoch 95/100\n",
            "10/10 [==============================] - 0s 17ms/step - loss: 2.8016e-04 - val_loss: 0.0016\n",
            "Epoch 96/100\n",
            "10/10 [==============================] - 0s 17ms/step - loss: 2.5859e-04 - val_loss: 0.0023\n",
            "Epoch 97/100\n",
            "10/10 [==============================] - 0s 17ms/step - loss: 2.7471e-04 - val_loss: 0.0036\n",
            "Epoch 98/100\n",
            "10/10 [==============================] - 0s 18ms/step - loss: 2.8578e-04 - val_loss: 0.0015\n",
            "Epoch 99/100\n",
            "10/10 [==============================] - 0s 19ms/step - loss: 2.4734e-04 - val_loss: 0.0020\n",
            "Epoch 100/100\n",
            "10/10 [==============================] - 0s 16ms/step - loss: 2.5270e-04 - val_loss: 0.0024\n"
          ],
          "name": "stdout"
        },
        {
          "output_type": "execute_result",
          "data": {
            "text/plain": [
              "<tensorflow.python.keras.callbacks.History at 0x7fc15496fa58>"
            ]
          },
          "metadata": {
            "tags": []
          },
          "execution_count": 99
        }
      ]
    },
    {
      "cell_type": "code",
      "metadata": {
        "id": "DyUiKe_c0Gqt"
      },
      "source": [
        "train_predict = model.predict(X_train)\n",
        "test_predict = model.predict(X_test)"
      ],
      "execution_count": null,
      "outputs": []
    },
    {
      "cell_type": "code",
      "metadata": {
        "id": "Cz3qab-W0Gob"
      },
      "source": [
        "train_predict = scaler.inverse_transform(train_predict)\n",
        "test_predict = scaler.inverse_transform(test_predict)"
      ],
      "execution_count": null,
      "outputs": []
    },
    {
      "cell_type": "code",
      "metadata": {
        "id": "LDhz9bOS0Gl7",
        "colab": {
          "base_uri": "https://localhost:8080/",
          "height": 35
        },
        "outputId": "d29bf217-5337-44ee-aa23-679a9c066c64"
      },
      "source": [
        "import math\n",
        "from sklearn.metrics import mean_squared_error\n",
        "math.sqrt(mean_squared_error(y_train, train_predict))"
      ],
      "execution_count": null,
      "outputs": [
        {
          "output_type": "execute_result",
          "data": {
            "text/plain": [
              "905.4255783956261"
            ]
          },
          "metadata": {
            "tags": []
          },
          "execution_count": 102
        }
      ]
    },
    {
      "cell_type": "code",
      "metadata": {
        "id": "Ij3wFN1v0Gjb",
        "colab": {
          "base_uri": "https://localhost:8080/",
          "height": 35
        },
        "outputId": "1b7afc20-72e9-435b-9d24-a324e446ebfd"
      },
      "source": [
        "math.sqrt(mean_squared_error(y_test, test_predict))"
      ],
      "execution_count": null,
      "outputs": [
        {
          "output_type": "execute_result",
          "data": {
            "text/plain": [
              "1587.4132566239832"
            ]
          },
          "metadata": {
            "tags": []
          },
          "execution_count": 103
        }
      ]
    },
    {
      "cell_type": "code",
      "metadata": {
        "id": "1RbCP5Ij0GhE",
        "colab": {
          "base_uri": "https://localhost:8080/",
          "height": 265
        },
        "outputId": "1197f6d5-4a0f-4625-ce9e-1723996747ff"
      },
      "source": [
        "### Plotting \n",
        "# shift train predictions for plotting\n",
        "look_back=100\n",
        "trainPredictPlot = np.empty_like(data_close)\n",
        "trainPredictPlot[:, :] = np.nan\n",
        "trainPredictPlot[look_back:len(train_predict)+look_back, :] = train_predict\n",
        "# shift test predictions for plotting\n",
        "testPredictPlot = np.empty_like(data_close)\n",
        "testPredictPlot[:, :] = np.nan\n",
        "testPredictPlot[len(train_predict)+(look_back*2)+1:len(data_close)-1, :] = test_predict\n",
        "# plot baseline and predictions\n",
        "plt.plot(scaler.inverse_transform(data_close))\n",
        "plt.plot(trainPredictPlot)\n",
        "plt.plot(testPredictPlot)\n",
        "plt.show()\n",
        "\n"
      ],
      "execution_count": null,
      "outputs": [
        {
          "output_type": "display_data",
          "data": {
            "image/png": "[encoded data removed]",
            "text/plain": [
              "<Figure size 432x288 with 1 Axes>"
            ]
          },
          "metadata": {
            "tags": [],
            "needs_background": "light"
          }
        }
      ]
    },
    {
      "cell_type": "code",
      "metadata": {
        "id": "zwSdNzyA0GSF",
        "colab": {
          "base_uri": "https://localhost:8080/",
          "height": 35
        },
        "outputId": "cf56479b-e2cf-4fe0-8719-8d2a62a3c691"
      },
      "source": [
        "len(test_data)"
      ],
      "execution_count": null,
      "outputs": [
        {
          "output_type": "execute_result",
          "data": {
            "text/plain": [
              "388"
            ]
          },
          "metadata": {
            "tags": []
          },
          "execution_count": 111
        }
      ]
    },
    {
      "cell_type": "code",
      "metadata": {
        "id": "2lo84F3wPpbD"
      },
      "source": [
        "x_input = test_data[288:].reshape(1,-1)\n",
        "x_input.shape\n",
        "temp_input = list(x_input)\n",
        "temp_input = temp_input[0].tolist()"
      ],
      "execution_count": null,
      "outputs": []
    },
    {
      "cell_type": "code",
      "metadata": {
        "id": "FaDUk8DwPpiO",
        "colab": {
          "base_uri": "https://localhost:8080/",
          "height": 1000
        },
        "outputId": "9f83b2c8-e396-4c2b-cf3c-f8b6b530b8c7"
      },
      "source": [
        "from numpy import array\n",
        "\n",
        "lst_output=[]\n",
        "n_steps=100\n",
        "i=0\n",
        "while(i<30):\n",
        "    \n",
        "    if(len(temp_input)>100):\n",
        "        #print(temp_input)\n",
        "        x_input=np.array(temp_input[1:])\n",
        "        print(\"{} day input {}\".format(i,x_input))\n",
        "        x_input=x_input.reshape(1,-1)\n",
        "        x_input = x_input.reshape((1, n_steps, 1))\n",
        "        #print(x_input)\n",
        "        yhat = model.predict(x_input, verbose=0)\n",
        "        print(\"{} day output {}\".format(i,yhat))\n",
        "        temp_input.extend(yhat[0].tolist())\n",
        "        temp_input=temp_input[1:]\n",
        "        #print(temp_input)\n",
        "        lst_output.extend(yhat.tolist())\n",
        "        i=i+1\n",
        "    else:\n",
        "        x_input = x_input.reshape((1, n_steps,1))\n",
        "        yhat = model.predict(x_input, verbose=0)\n",
        "        print(yhat[0])\n",
        "        temp_input.extend(yhat[0].tolist())\n",
        "        print(len(temp_input))\n",
        "        lst_output.extend(yhat.tolist())\n",
        "        i=i+1\n",
        "    \n",
        "\n",
        "print(lst_output)"
      ],
      "execution_count": null,
      "outputs": [
        {
          "output_type": "stream",
          "text": [
            "[0.8249811]\n",
            "101\n",
            "1 day input [0.59448045 0.5767544  0.59552946 0.5769696  0.60456733 0.61866204\n",
            " 0.62000696 0.61887724 0.64085318 0.69639827 0.68978125 0.6751755\n",
            " 0.67910262 0.67404572 0.68730662 0.67684319 0.66619141 0.6847782\n",
            " 0.69696317 0.71146135 0.74583745 0.73107022 0.71676031 0.73141991\n",
            " 0.76041635 0.79043493 0.7809398  0.74271722 0.7413723  0.77808855\n",
            " 0.78236543 0.81063555 0.82798499 0.85840698 0.90443008 0.90962154\n",
            " 0.92124155 0.87734353 0.8842294  0.8617962  0.83032513 0.90709299\n",
            " 0.8939128  0.89816282 0.90469907 0.89012024 0.89789384 0.89442398\n",
            " 0.89157273 0.88716142 0.87497639 0.88966292 0.89743651 0.87761251\n",
            " 0.86975814 0.87745109 0.86989263 0.89940017 0.88587022 0.88796837\n",
            " 0.86803667 0.87287837 0.89496194 0.88611228 0.86741793 0.87010776\n",
            " 0.88336873 0.91252651 0.9950506  0.99731017 0.98843371 0.99679899\n",
            " 1.         0.98681981 0.99012825 0.96304156 0.93937101 0.94926969\n",
            " 0.923232   0.93428725 0.94184572 0.95750061 0.95152912 0.94684883\n",
            " 0.93937101 0.93883305 0.9641175  0.9542996  0.9515022  0.95306238\n",
            " 0.97654459 0.9803642  0.93635848 0.92019254 0.92035396 0.9094332\n",
            " 0.89208377 0.88339565 0.88632755 0.82498109]\n",
            "1 day output [[0.80668247]]\n",
            "2 day input [0.5767544  0.59552946 0.5769696  0.60456733 0.61866204 0.62000696\n",
            " 0.61887724 0.64085318 0.69639827 0.68978125 0.6751755  0.67910262\n",
            " 0.67404572 0.68730662 0.67684319 0.66619141 0.6847782  0.69696317\n",
            " 0.71146135 0.74583745 0.73107022 0.71676031 0.73141991 0.76041635\n",
            " 0.79043493 0.7809398  0.74271722 0.7413723  0.77808855 0.78236543\n",
            " 0.81063555 0.82798499 0.85840698 0.90443008 0.90962154 0.92124155\n",
            " 0.87734353 0.8842294  0.8617962  0.83032513 0.90709299 0.8939128\n",
            " 0.89816282 0.90469907 0.89012024 0.89789384 0.89442398 0.89157273\n",
            " 0.88716142 0.87497639 0.88966292 0.89743651 0.87761251 0.86975814\n",
            " 0.87745109 0.86989263 0.89940017 0.88587022 0.88796837 0.86803667\n",
            " 0.87287837 0.89496194 0.88611228 0.86741793 0.87010776 0.88336873\n",
            " 0.91252651 0.9950506  0.99731017 0.98843371 0.99679899 1.\n",
            " 0.98681981 0.99012825 0.96304156 0.93937101 0.94926969 0.923232\n",
            " 0.93428725 0.94184572 0.95750061 0.95152912 0.94684883 0.93937101\n",
            " 0.93883305 0.9641175  0.9542996  0.9515022  0.95306238 0.97654459\n",
            " 0.9803642  0.93635848 0.92019254 0.92035396 0.9094332  0.89208377\n",
            " 0.88339565 0.88632755 0.82498109 0.80668247]\n",
            "2 day output [[0.7847767]]\n",
            "3 day input [0.59552946 0.5769696  0.60456733 0.61866204 0.62000696 0.61887724\n",
            " 0.64085318 0.69639827 0.68978125 0.6751755  0.67910262 0.67404572\n",
            " 0.68730662 0.67684319 0.66619141 0.6847782  0.69696317 0.71146135\n",
            " 0.74583745 0.73107022 0.71676031 0.73141991 0.76041635 0.79043493\n",
            " 0.7809398  0.74271722 0.7413723  0.77808855 0.78236543 0.81063555\n",
            " 0.82798499 0.85840698 0.90443008 0.90962154 0.92124155 0.87734353\n",
            " 0.8842294  0.8617962  0.83032513 0.90709299 0.8939128  0.89816282\n",
            " 0.90469907 0.89012024 0.89789384 0.89442398 0.89157273 0.88716142\n",
            " 0.87497639 0.88966292 0.89743651 0.87761251 0.86975814 0.87745109\n",
            " 0.86989263 0.89940017 0.88587022 0.88796837 0.86803667 0.87287837\n",
            " 0.89496194 0.88611228 0.86741793 0.87010776 0.88336873 0.91252651\n",
            " 0.9950506  0.99731017 0.98843371 0.99679899 1.         0.98681981\n",
            " 0.99012825 0.96304156 0.93937101 0.94926969 0.923232   0.93428725\n",
            " 0.94184572 0.95750061 0.95152912 0.94684883 0.93937101 0.93883305\n",
            " 0.9641175  0.9542996  0.9515022  0.95306238 0.97654459 0.9803642\n",
            " 0.93635848 0.92019254 0.92035396 0.9094332  0.89208377 0.88339565\n",
            " 0.88632755 0.82498109 0.80668247 0.78477669]\n",
            "3 day output [[0.7602657]]\n",
            "4 day input [0.5769696  0.60456733 0.61866204 0.62000696 0.61887724 0.64085318\n",
            " 0.69639827 0.68978125 0.6751755  0.67910262 0.67404572 0.68730662\n",
            " 0.67684319 0.66619141 0.6847782  0.69696317 0.71146135 0.74583745\n",
            " 0.73107022 0.71676031 0.73141991 0.76041635 0.79043493 0.7809398\n",
            " 0.74271722 0.7413723  0.77808855 0.78236543 0.81063555 0.82798499\n",
            " 0.85840698 0.90443008 0.90962154 0.92124155 0.87734353 0.8842294\n",
            " 0.8617962  0.83032513 0.90709299 0.8939128  0.89816282 0.90469907\n",
            " 0.89012024 0.89789384 0.89442398 0.89157273 0.88716142 0.87497639\n",
            " 0.88966292 0.89743651 0.87761251 0.86975814 0.87745109 0.86989263\n",
            " 0.89940017 0.88587022 0.88796837 0.86803667 0.87287837 0.89496194\n",
            " 0.88611228 0.86741793 0.87010776 0.88336873 0.91252651 0.9950506\n",
            " 0.99731017 0.98843371 0.99679899 1.         0.98681981 0.99012825\n",
            " 0.96304156 0.93937101 0.94926969 0.923232   0.93428725 0.94184572\n",
            " 0.95750061 0.95152912 0.94684883 0.93937101 0.93883305 0.9641175\n",
            " 0.9542996  0.9515022  0.95306238 0.97654459 0.9803642  0.93635848\n",
            " 0.92019254 0.92035396 0.9094332  0.89208377 0.88339565 0.88632755\n",
            " 0.82498109 0.80668247 0.78477669 0.76026571]\n",
            "4 day output [[0.7341907]]\n",
            "5 day input [0.60456733 0.61866204 0.62000696 0.61887724 0.64085318 0.69639827\n",
            " 0.68978125 0.6751755  0.67910262 0.67404572 0.68730662 0.67684319\n",
            " 0.66619141 0.6847782  0.69696317 0.71146135 0.74583745 0.73107022\n",
            " 0.71676031 0.73141991 0.76041635 0.79043493 0.7809398  0.74271722\n",
            " 0.7413723  0.77808855 0.78236543 0.81063555 0.82798499 0.85840698\n",
            " 0.90443008 0.90962154 0.92124155 0.87734353 0.8842294  0.8617962\n",
            " 0.83032513 0.90709299 0.8939128  0.89816282 0.90469907 0.89012024\n",
            " 0.89789384 0.89442398 0.89157273 0.88716142 0.87497639 0.88966292\n",
            " 0.89743651 0.87761251 0.86975814 0.87745109 0.86989263 0.89940017\n",
            " 0.88587022 0.88796837 0.86803667 0.87287837 0.89496194 0.88611228\n",
            " 0.86741793 0.87010776 0.88336873 0.91252651 0.9950506  0.99731017\n",
            " 0.98843371 0.99679899 1.         0.98681981 0.99012825 0.96304156\n",
            " 0.93937101 0.94926969 0.923232   0.93428725 0.94184572 0.95750061\n",
            " 0.95152912 0.94684883 0.93937101 0.93883305 0.9641175  0.9542996\n",
            " 0.9515022  0.95306238 0.97654459 0.9803642  0.93635848 0.92019254\n",
            " 0.92035396 0.9094332  0.89208377 0.88339565 0.88632755 0.82498109\n",
            " 0.80668247 0.78477669 0.76026571 0.7341907 ]\n",
            "5 day output [[0.70739913]]\n",
            "6 day input [0.61866204 0.62000696 0.61887724 0.64085318 0.69639827 0.68978125\n",
            " 0.6751755  0.67910262 0.67404572 0.68730662 0.67684319 0.66619141\n",
            " 0.6847782  0.69696317 0.71146135 0.74583745 0.73107022 0.71676031\n",
            " 0.73141991 0.76041635 0.79043493 0.7809398  0.74271722 0.7413723\n",
            " 0.77808855 0.78236543 0.81063555 0.82798499 0.85840698 0.90443008\n",
            " 0.90962154 0.92124155 0.87734353 0.8842294  0.8617962  0.83032513\n",
            " 0.90709299 0.8939128  0.89816282 0.90469907 0.89012024 0.89789384\n",
            " 0.89442398 0.89157273 0.88716142 0.87497639 0.88966292 0.89743651\n",
            " 0.87761251 0.86975814 0.87745109 0.86989263 0.89940017 0.88587022\n",
            " 0.88796837 0.86803667 0.87287837 0.89496194 0.88611228 0.86741793\n",
            " 0.87010776 0.88336873 0.91252651 0.9950506  0.99731017 0.98843371\n",
            " 0.99679899 1.         0.98681981 0.99012825 0.96304156 0.93937101\n",
            " 0.94926969 0.923232   0.93428725 0.94184572 0.95750061 0.95152912\n",
            " 0.94684883 0.93937101 0.93883305 0.9641175  0.9542996  0.9515022\n",
            " 0.95306238 0.97654459 0.9803642  0.93635848 0.92019254 0.92035396\n",
            " 0.9094332  0.89208377 0.88339565 0.88632755 0.82498109 0.80668247\n",
            " 0.78477669 0.76026571 0.7341907  0.70739913]\n",
            "6 day output [[0.68054044]]\n",
            "7 day input [0.62000696 0.61887724 0.64085318 0.69639827 0.68978125 0.6751755\n",
            " 0.67910262 0.67404572 0.68730662 0.67684319 0.66619141 0.6847782\n",
            " 0.69696317 0.71146135 0.74583745 0.73107022 0.71676031 0.73141991\n",
            " 0.76041635 0.79043493 0.7809398  0.74271722 0.7413723  0.77808855\n",
            " 0.78236543 0.81063555 0.82798499 0.85840698 0.90443008 0.90962154\n",
            " 0.92124155 0.87734353 0.8842294  0.8617962  0.83032513 0.90709299\n",
            " 0.8939128  0.89816282 0.90469907 0.89012024 0.89789384 0.89442398\n",
            " 0.89157273 0.88716142 0.87497639 0.88966292 0.89743651 0.87761251\n",
            " 0.86975814 0.87745109 0.86989263 0.89940017 0.88587022 0.88796837\n",
            " 0.86803667 0.87287837 0.89496194 0.88611228 0.86741793 0.87010776\n",
            " 0.88336873 0.91252651 0.9950506  0.99731017 0.98843371 0.99679899\n",
            " 1.         0.98681981 0.99012825 0.96304156 0.93937101 0.94926969\n",
            " 0.923232   0.93428725 0.94184572 0.95750061 0.95152912 0.94684883\n",
            " 0.93937101 0.93883305 0.9641175  0.9542996  0.9515022  0.95306238\n",
            " 0.97654459 0.9803642  0.93635848 0.92019254 0.92035396 0.9094332\n",
            " 0.89208377 0.88339565 0.88632755 0.82498109 0.80668247 0.78477669\n",
            " 0.76026571 0.7341907  0.70739913 0.68054044]\n",
            "7 day output [[0.6541275]]\n",
            "8 day input [0.61887724 0.64085318 0.69639827 0.68978125 0.6751755  0.67910262\n",
            " 0.67404572 0.68730662 0.67684319 0.66619141 0.6847782  0.69696317\n",
            " 0.71146135 0.74583745 0.73107022 0.71676031 0.73141991 0.76041635\n",
            " 0.79043493 0.7809398  0.74271722 0.7413723  0.77808855 0.78236543\n",
            " 0.81063555 0.82798499 0.85840698 0.90443008 0.90962154 0.92124155\n",
            " 0.87734353 0.8842294  0.8617962  0.83032513 0.90709299 0.8939128\n",
            " 0.89816282 0.90469907 0.89012024 0.89789384 0.89442398 0.89157273\n",
            " 0.88716142 0.87497639 0.88966292 0.89743651 0.87761251 0.86975814\n",
            " 0.87745109 0.86989263 0.89940017 0.88587022 0.88796837 0.86803667\n",
            " 0.87287837 0.89496194 0.88611228 0.86741793 0.87010776 0.88336873\n",
            " 0.91252651 0.9950506  0.99731017 0.98843371 0.99679899 1.\n",
            " 0.98681981 0.99012825 0.96304156 0.93937101 0.94926969 0.923232\n",
            " 0.93428725 0.94184572 0.95750061 0.95152912 0.94684883 0.93937101\n",
            " 0.93883305 0.9641175  0.9542996  0.9515022  0.95306238 0.97654459\n",
            " 0.9803642  0.93635848 0.92019254 0.92035396 0.9094332  0.89208377\n",
            " 0.88339565 0.88632755 0.82498109 0.80668247 0.78477669 0.76026571\n",
            " 0.7341907  0.70739913 0.68054044 0.65412748]\n",
            "8 day output [[0.6285894]]\n",
            "9 day input [0.64085318 0.69639827 0.68978125 0.6751755  0.67910262 0.67404572\n",
            " 0.68730662 0.67684319 0.66619141 0.6847782  0.69696317 0.71146135\n",
            " 0.74583745 0.73107022 0.71676031 0.73141991 0.76041635 0.79043493\n",
            " 0.7809398  0.74271722 0.7413723  0.77808855 0.78236543 0.81063555\n",
            " 0.82798499 0.85840698 0.90443008 0.90962154 0.92124155 0.87734353\n",
            " 0.8842294  0.8617962  0.83032513 0.90709299 0.8939128  0.89816282\n",
            " 0.90469907 0.89012024 0.89789384 0.89442398 0.89157273 0.88716142\n",
            " 0.87497639 0.88966292 0.89743651 0.87761251 0.86975814 0.87745109\n",
            " 0.86989263 0.89940017 0.88587022 0.88796837 0.86803667 0.87287837\n",
            " 0.89496194 0.88611228 0.86741793 0.87010776 0.88336873 0.91252651\n",
            " 0.9950506  0.99731017 0.98843371 0.99679899 1.         0.98681981\n",
            " 0.99012825 0.96304156 0.93937101 0.94926969 0.923232   0.93428725\n",
            " 0.94184572 0.95750061 0.95152912 0.94684883 0.93937101 0.93883305\n",
            " 0.9641175  0.9542996  0.9515022  0.95306238 0.97654459 0.9803642\n",
            " 0.93635848 0.92019254 0.92035396 0.9094332  0.89208377 0.88339565\n",
            " 0.88632755 0.82498109 0.80668247 0.78477669 0.76026571 0.7341907\n",
            " 0.70739913 0.68054044 0.65412748 0.62858939]\n",
            "9 day output [[0.6043005]]\n",
            "10 day input [0.69639827 0.68978125 0.6751755  0.67910262 0.67404572 0.68730662\n",
            " 0.67684319 0.66619141 0.6847782  0.69696317 0.71146135 0.74583745\n",
            " 0.73107022 0.71676031 0.73141991 0.76041635 0.79043493 0.7809398\n",
            " 0.74271722 0.7413723  0.77808855 0.78236543 0.81063555 0.82798499\n",
            " 0.85840698 0.90443008 0.90962154 0.92124155 0.87734353 0.8842294\n",
            " 0.8617962  0.83032513 0.90709299 0.8939128  0.89816282 0.90469907\n",
            " 0.89012024 0.89789384 0.89442398 0.89157273 0.88716142 0.87497639\n",
            " 0.88966292 0.89743651 0.87761251 0.86975814 0.87745109 0.86989263\n",
            " 0.89940017 0.88587022 0.88796837 0.86803667 0.87287837 0.89496194\n",
            " 0.88611228 0.86741793 0.87010776 0.88336873 0.91252651 0.9950506\n",
            " 0.99731017 0.98843371 0.99679899 1.         0.98681981 0.99012825\n",
            " 0.96304156 0.93937101 0.94926969 0.923232   0.93428725 0.94184572\n",
            " 0.95750061 0.95152912 0.94684883 0.93937101 0.93883305 0.9641175\n",
            " 0.9542996  0.9515022  0.95306238 0.97654459 0.9803642  0.93635848\n",
            " 0.92019254 0.92035396 0.9094332  0.89208377 0.88339565 0.88632755\n",
            " 0.82498109 0.80668247 0.78477669 0.76026571 0.7341907  0.70739913\n",
            " 0.68054044 0.65412748 0.62858939 0.6043005 ]\n",
            "10 day output [[0.58158576]]\n",
            "11 day input [0.68978125 0.6751755  0.67910262 0.67404572 0.68730662 0.67684319\n",
            " 0.66619141 0.6847782  0.69696317 0.71146135 0.74583745 0.73107022\n",
            " 0.71676031 0.73141991 0.76041635 0.79043493 0.7809398  0.74271722\n",
            " 0.7413723  0.77808855 0.78236543 0.81063555 0.82798499 0.85840698\n",
            " 0.90443008 0.90962154 0.92124155 0.87734353 0.8842294  0.8617962\n",
            " 0.83032513 0.90709299 0.8939128  0.89816282 0.90469907 0.89012024\n",
            " 0.89789384 0.89442398 0.89157273 0.88716142 0.87497639 0.88966292\n",
            " 0.89743651 0.87761251 0.86975814 0.87745109 0.86989263 0.89940017\n",
            " 0.88587022 0.88796837 0.86803667 0.87287837 0.89496194 0.88611228\n",
            " 0.86741793 0.87010776 0.88336873 0.91252651 0.9950506  0.99731017\n",
            " 0.98843371 0.99679899 1.         0.98681981 0.99012825 0.96304156\n",
            " 0.93937101 0.94926969 0.923232   0.93428725 0.94184572 0.95750061\n",
            " 0.95152912 0.94684883 0.93937101 0.93883305 0.9641175  0.9542996\n",
            " 0.9515022  0.95306238 0.97654459 0.9803642  0.93635848 0.92019254\n",
            " 0.92035396 0.9094332  0.89208377 0.88339565 0.88632755 0.82498109\n",
            " 0.80668247 0.78477669 0.76026571 0.7341907  0.70739913 0.68054044\n",
            " 0.65412748 0.62858939 0.6043005  0.58158576]\n",
            "11 day output [[0.5607134]]\n",
            "12 day input [0.6751755  0.67910262 0.67404572 0.68730662 0.67684319 0.66619141\n",
            " 0.6847782  0.69696317 0.71146135 0.74583745 0.73107022 0.71676031\n",
            " 0.73141991 0.76041635 0.79043493 0.7809398  0.74271722 0.7413723\n",
            " 0.77808855 0.78236543 0.81063555 0.82798499 0.85840698 0.90443008\n",
            " 0.90962154 0.92124155 0.87734353 0.8842294  0.8617962  0.83032513\n",
            " 0.90709299 0.8939128  0.89816282 0.90469907 0.89012024 0.89789384\n",
            " 0.89442398 0.89157273 0.88716142 0.87497639 0.88966292 0.89743651\n",
            " 0.87761251 0.86975814 0.87745109 0.86989263 0.89940017 0.88587022\n",
            " 0.88796837 0.86803667 0.87287837 0.89496194 0.88611228 0.86741793\n",
            " 0.87010776 0.88336873 0.91252651 0.9950506  0.99731017 0.98843371\n",
            " 0.99679899 1.         0.98681981 0.99012825 0.96304156 0.93937101\n",
            " 0.94926969 0.923232   0.93428725 0.94184572 0.95750061 0.95152912\n",
            " 0.94684883 0.93937101 0.93883305 0.9641175  0.9542996  0.9515022\n",
            " 0.95306238 0.97654459 0.9803642  0.93635848 0.92019254 0.92035396\n",
            " 0.9094332  0.89208377 0.88339565 0.88632755 0.82498109 0.80668247\n",
            " 0.78477669 0.76026571 0.7341907  0.70739913 0.68054044 0.65412748\n",
            " 0.62858939 0.6043005  0.58158576 0.56071341]\n",
            "12 day output [[0.5418829]]\n",
            "13 day input [0.67910262 0.67404572 0.68730662 0.67684319 0.66619141 0.6847782\n",
            " 0.69696317 0.71146135 0.74583745 0.73107022 0.71676031 0.73141991\n",
            " 0.76041635 0.79043493 0.7809398  0.74271722 0.7413723  0.77808855\n",
            " 0.78236543 0.81063555 0.82798499 0.85840698 0.90443008 0.90962154\n",
            " 0.92124155 0.87734353 0.8842294  0.8617962  0.83032513 0.90709299\n",
            " 0.8939128  0.89816282 0.90469907 0.89012024 0.89789384 0.89442398\n",
            " 0.89157273 0.88716142 0.87497639 0.88966292 0.89743651 0.87761251\n",
            " 0.86975814 0.87745109 0.86989263 0.89940017 0.88587022 0.88796837\n",
            " 0.86803667 0.87287837 0.89496194 0.88611228 0.86741793 0.87010776\n",
            " 0.88336873 0.91252651 0.9950506  0.99731017 0.98843371 0.99679899\n",
            " 1.         0.98681981 0.99012825 0.96304156 0.93937101 0.94926969\n",
            " 0.923232   0.93428725 0.94184572 0.95750061 0.95152912 0.94684883\n",
            " 0.93937101 0.93883305 0.9641175  0.9542996  0.9515022  0.95306238\n",
            " 0.97654459 0.9803642  0.93635848 0.92019254 0.92035396 0.9094332\n",
            " 0.89208377 0.88339565 0.88632755 0.82498109 0.80668247 0.78477669\n",
            " 0.76026571 0.7341907  0.70739913 0.68054044 0.65412748 0.62858939\n",
            " 0.6043005  0.58158576 0.56071341 0.54188287]\n",
            "13 day output [[0.5252186]]\n",
            "14 day input [0.67404572 0.68730662 0.67684319 0.66619141 0.6847782  0.69696317\n",
            " 0.71146135 0.74583745 0.73107022 0.71676031 0.73141991 0.76041635\n",
            " 0.79043493 0.7809398  0.74271722 0.7413723  0.77808855 0.78236543\n",
            " 0.81063555 0.82798499 0.85840698 0.90443008 0.90962154 0.92124155\n",
            " 0.87734353 0.8842294  0.8617962  0.83032513 0.90709299 0.8939128\n",
            " 0.89816282 0.90469907 0.89012024 0.89789384 0.89442398 0.89157273\n",
            " 0.88716142 0.87497639 0.88966292 0.89743651 0.87761251 0.86975814\n",
            " 0.87745109 0.86989263 0.89940017 0.88587022 0.88796837 0.86803667\n",
            " 0.87287837 0.89496194 0.88611228 0.86741793 0.87010776 0.88336873\n",
            " 0.91252651 0.9950506  0.99731017 0.98843371 0.99679899 1.\n",
            " 0.98681981 0.99012825 0.96304156 0.93937101 0.94926969 0.923232\n",
            " 0.93428725 0.94184572 0.95750061 0.95152912 0.94684883 0.93937101\n",
            " 0.93883305 0.9641175  0.9542996  0.9515022  0.95306238 0.97654459\n",
            " 0.9803642  0.93635848 0.92019254 0.92035396 0.9094332  0.89208377\n",
            " 0.88339565 0.88632755 0.82498109 0.80668247 0.78477669 0.76026571\n",
            " 0.7341907  0.70739913 0.68054044 0.65412748 0.62858939 0.6043005\n",
            " 0.58158576 0.56071341 0.54188287 0.52521861]\n",
            "14 day output [[0.51076806]]\n",
            "15 day input [0.68730662 0.67684319 0.66619141 0.6847782  0.69696317 0.71146135\n",
            " 0.74583745 0.73107022 0.71676031 0.73141991 0.76041635 0.79043493\n",
            " 0.7809398  0.74271722 0.7413723  0.77808855 0.78236543 0.81063555\n",
            " 0.82798499 0.85840698 0.90443008 0.90962154 0.92124155 0.87734353\n",
            " 0.8842294  0.8617962  0.83032513 0.90709299 0.8939128  0.89816282\n",
            " 0.90469907 0.89012024 0.89789384 0.89442398 0.89157273 0.88716142\n",
            " 0.87497639 0.88966292 0.89743651 0.87761251 0.86975814 0.87745109\n",
            " 0.86989263 0.89940017 0.88587022 0.88796837 0.86803667 0.87287837\n",
            " 0.89496194 0.88611228 0.86741793 0.87010776 0.88336873 0.91252651\n",
            " 0.9950506  0.99731017 0.98843371 0.99679899 1.         0.98681981\n",
            " 0.99012825 0.96304156 0.93937101 0.94926969 0.923232   0.93428725\n",
            " 0.94184572 0.95750061 0.95152912 0.94684883 0.93937101 0.93883305\n",
            " 0.9641175  0.9542996  0.9515022  0.95306238 0.97654459 0.9803642\n",
            " 0.93635848 0.92019254 0.92035396 0.9094332  0.89208377 0.88339565\n",
            " 0.88632755 0.82498109 0.80668247 0.78477669 0.76026571 0.7341907\n",
            " 0.70739913 0.68054044 0.65412748 0.62858939 0.6043005  0.58158576\n",
            " 0.56071341 0.54188287 0.52521861 0.51076806]\n",
            "15 day output [[0.4985072]]\n",
            "16 day input [0.67684319 0.66619141 0.6847782  0.69696317 0.71146135 0.74583745\n",
            " 0.73107022 0.71676031 0.73141991 0.76041635 0.79043493 0.7809398\n",
            " 0.74271722 0.7413723  0.77808855 0.78236543 0.81063555 0.82798499\n",
            " 0.85840698 0.90443008 0.90962154 0.92124155 0.87734353 0.8842294\n",
            " 0.8617962  0.83032513 0.90709299 0.8939128  0.89816282 0.90469907\n",
            " 0.89012024 0.89789384 0.89442398 0.89157273 0.88716142 0.87497639\n",
            " 0.88966292 0.89743651 0.87761251 0.86975814 0.87745109 0.86989263\n",
            " 0.89940017 0.88587022 0.88796837 0.86803667 0.87287837 0.89496194\n",
            " 0.88611228 0.86741793 0.87010776 0.88336873 0.91252651 0.9950506\n",
            " 0.99731017 0.98843371 0.99679899 1.         0.98681981 0.99012825\n",
            " 0.96304156 0.93937101 0.94926969 0.923232   0.93428725 0.94184572\n",
            " 0.95750061 0.95152912 0.94684883 0.93937101 0.93883305 0.9641175\n",
            " 0.9542996  0.9515022  0.95306238 0.97654459 0.9803642  0.93635848\n",
            " 0.92019254 0.92035396 0.9094332  0.89208377 0.88339565 0.88632755\n",
            " 0.82498109 0.80668247 0.78477669 0.76026571 0.7341907  0.70739913\n",
            " 0.68054044 0.65412748 0.62858939 0.6043005  0.58158576 0.56071341\n",
            " 0.54188287 0.52521861 0.51076806 0.4985072 ]\n",
            "16 day output [[0.4883505]]\n",
            "17 day input [0.66619141 0.6847782  0.69696317 0.71146135 0.74583745 0.73107022\n",
            " 0.71676031 0.73141991 0.76041635 0.79043493 0.7809398  0.74271722\n",
            " 0.7413723  0.77808855 0.78236543 0.81063555 0.82798499 0.85840698\n",
            " 0.90443008 0.90962154 0.92124155 0.87734353 0.8842294  0.8617962\n",
            " 0.83032513 0.90709299 0.8939128  0.89816282 0.90469907 0.89012024\n",
            " 0.89789384 0.89442398 0.89157273 0.88716142 0.87497639 0.88966292\n",
            " 0.89743651 0.87761251 0.86975814 0.87745109 0.86989263 0.89940017\n",
            " 0.88587022 0.88796837 0.86803667 0.87287837 0.89496194 0.88611228\n",
            " 0.86741793 0.87010776 0.88336873 0.91252651 0.9950506  0.99731017\n",
            " 0.98843371 0.99679899 1.         0.98681981 0.99012825 0.96304156\n",
            " 0.93937101 0.94926969 0.923232   0.93428725 0.94184572 0.95750061\n",
            " 0.95152912 0.94684883 0.93937101 0.93883305 0.9641175  0.9542996\n",
            " 0.9515022  0.95306238 0.97654459 0.9803642  0.93635848 0.92019254\n",
            " 0.92035396 0.9094332  0.89208377 0.88339565 0.88632755 0.82498109\n",
            " 0.80668247 0.78477669 0.76026571 0.7341907  0.70739913 0.68054044\n",
            " 0.65412748 0.62858939 0.6043005  0.58158576 0.56071341 0.54188287\n",
            " 0.52521861 0.51076806 0.4985072  0.48835051]\n",
            "17 day output [[0.48016322]]\n",
            "18 day input [0.6847782  0.69696317 0.71146135 0.74583745 0.73107022 0.71676031\n",
            " 0.73141991 0.76041635 0.79043493 0.7809398  0.74271722 0.7413723\n",
            " 0.77808855 0.78236543 0.81063555 0.82798499 0.85840698 0.90443008\n",
            " 0.90962154 0.92124155 0.87734353 0.8842294  0.8617962  0.83032513\n",
            " 0.90709299 0.8939128  0.89816282 0.90469907 0.89012024 0.89789384\n",
            " 0.89442398 0.89157273 0.88716142 0.87497639 0.88966292 0.89743651\n",
            " 0.87761251 0.86975814 0.87745109 0.86989263 0.89940017 0.88587022\n",
            " 0.88796837 0.86803667 0.87287837 0.89496194 0.88611228 0.86741793\n",
            " 0.87010776 0.88336873 0.91252651 0.9950506  0.99731017 0.98843371\n",
            " 0.99679899 1.         0.98681981 0.99012825 0.96304156 0.93937101\n",
            " 0.94926969 0.923232   0.93428725 0.94184572 0.95750061 0.95152912\n",
            " 0.94684883 0.93937101 0.93883305 0.9641175  0.9542996  0.9515022\n",
            " 0.95306238 0.97654459 0.9803642  0.93635848 0.92019254 0.92035396\n",
            " 0.9094332  0.89208377 0.88339565 0.88632755 0.82498109 0.80668247\n",
            " 0.78477669 0.76026571 0.7341907  0.70739913 0.68054044 0.65412748\n",
            " 0.62858939 0.6043005  0.58158576 0.56071341 0.54188287 0.52521861\n",
            " 0.51076806 0.4985072  0.48835051 0.48016322]\n",
            "18 day output [[0.4737739]]\n",
            "19 day input [0.69696317 0.71146135 0.74583745 0.73107022 0.71676031 0.73141991\n",
            " 0.76041635 0.79043493 0.7809398  0.74271722 0.7413723  0.77808855\n",
            " 0.78236543 0.81063555 0.82798499 0.85840698 0.90443008 0.90962154\n",
            " 0.92124155 0.87734353 0.8842294  0.8617962  0.83032513 0.90709299\n",
            " 0.8939128  0.89816282 0.90469907 0.89012024 0.89789384 0.89442398\n",
            " 0.89157273 0.88716142 0.87497639 0.88966292 0.89743651 0.87761251\n",
            " 0.86975814 0.87745109 0.86989263 0.89940017 0.88587022 0.88796837\n",
            " 0.86803667 0.87287837 0.89496194 0.88611228 0.86741793 0.87010776\n",
            " 0.88336873 0.91252651 0.9950506  0.99731017 0.98843371 0.99679899\n",
            " 1.         0.98681981 0.99012825 0.96304156 0.93937101 0.94926969\n",
            " 0.923232   0.93428725 0.94184572 0.95750061 0.95152912 0.94684883\n",
            " 0.93937101 0.93883305 0.9641175  0.9542996  0.9515022  0.95306238\n",
            " 0.97654459 0.9803642  0.93635848 0.92019254 0.92035396 0.9094332\n",
            " 0.89208377 0.88339565 0.88632755 0.82498109 0.80668247 0.78477669\n",
            " 0.76026571 0.7341907  0.70739913 0.68054044 0.65412748 0.62858939\n",
            " 0.6043005  0.58158576 0.56071341 0.54188287 0.52521861 0.51076806\n",
            " 0.4985072  0.48835051 0.48016322 0.4737739 ]\n",
            "19 day output [[0.46898654]]\n",
            "20 day input [0.71146135 0.74583745 0.73107022 0.71676031 0.73141991 0.76041635\n",
            " 0.79043493 0.7809398  0.74271722 0.7413723  0.77808855 0.78236543\n",
            " 0.81063555 0.82798499 0.85840698 0.90443008 0.90962154 0.92124155\n",
            " 0.87734353 0.8842294  0.8617962  0.83032513 0.90709299 0.8939128\n",
            " 0.89816282 0.90469907 0.89012024 0.89789384 0.89442398 0.89157273\n",
            " 0.88716142 0.87497639 0.88966292 0.89743651 0.87761251 0.86975814\n",
            " 0.87745109 0.86989263 0.89940017 0.88587022 0.88796837 0.86803667\n",
            " 0.87287837 0.89496194 0.88611228 0.86741793 0.87010776 0.88336873\n",
            " 0.91252651 0.9950506  0.99731017 0.98843371 0.99679899 1.\n",
            " 0.98681981 0.99012825 0.96304156 0.93937101 0.94926969 0.923232\n",
            " 0.93428725 0.94184572 0.95750061 0.95152912 0.94684883 0.93937101\n",
            " 0.93883305 0.9641175  0.9542996  0.9515022  0.95306238 0.97654459\n",
            " 0.9803642  0.93635848 0.92019254 0.92035396 0.9094332  0.89208377\n",
            " 0.88339565 0.88632755 0.82498109 0.80668247 0.78477669 0.76026571\n",
            " 0.7341907  0.70739913 0.68054044 0.65412748 0.62858939 0.6043005\n",
            " 0.58158576 0.56071341 0.54188287 0.52521861 0.51076806 0.4985072\n",
            " 0.48835051 0.48016322 0.4737739  0.46898654]\n",
            "20 day output [[0.46559098]]\n",
            "21 day input [0.74583745 0.73107022 0.71676031 0.73141991 0.76041635 0.79043493\n",
            " 0.7809398  0.74271722 0.7413723  0.77808855 0.78236543 0.81063555\n",
            " 0.82798499 0.85840698 0.90443008 0.90962154 0.92124155 0.87734353\n",
            " 0.8842294  0.8617962  0.83032513 0.90709299 0.8939128  0.89816282\n",
            " 0.90469907 0.89012024 0.89789384 0.89442398 0.89157273 0.88716142\n",
            " 0.87497639 0.88966292 0.89743651 0.87761251 0.86975814 0.87745109\n",
            " 0.86989263 0.89940017 0.88587022 0.88796837 0.86803667 0.87287837\n",
            " 0.89496194 0.88611228 0.86741793 0.87010776 0.88336873 0.91252651\n",
            " 0.9950506  0.99731017 0.98843371 0.99679899 1.         0.98681981\n",
            " 0.99012825 0.96304156 0.93937101 0.94926969 0.923232   0.93428725\n",
            " 0.94184572 0.95750061 0.95152912 0.94684883 0.93937101 0.93883305\n",
            " 0.9641175  0.9542996  0.9515022  0.95306238 0.97654459 0.9803642\n",
            " 0.93635848 0.92019254 0.92035396 0.9094332  0.89208377 0.88339565\n",
            " 0.88632755 0.82498109 0.80668247 0.78477669 0.76026571 0.7341907\n",
            " 0.70739913 0.68054044 0.65412748 0.62858939 0.6043005  0.58158576\n",
            " 0.56071341 0.54188287 0.52521861 0.51076806 0.4985072  0.48835051\n",
            " 0.48016322 0.4737739  0.46898654 0.46559098]\n",
            "21 day output [[0.46337113]]\n",
            "22 day input [0.73107022 0.71676031 0.73141991 0.76041635 0.79043493 0.7809398\n",
            " 0.74271722 0.7413723  0.77808855 0.78236543 0.81063555 0.82798499\n",
            " 0.85840698 0.90443008 0.90962154 0.92124155 0.87734353 0.8842294\n",
            " 0.8617962  0.83032513 0.90709299 0.8939128  0.89816282 0.90469907\n",
            " 0.89012024 0.89789384 0.89442398 0.89157273 0.88716142 0.87497639\n",
            " 0.88966292 0.89743651 0.87761251 0.86975814 0.87745109 0.86989263\n",
            " 0.89940017 0.88587022 0.88796837 0.86803667 0.87287837 0.89496194\n",
            " 0.88611228 0.86741793 0.87010776 0.88336873 0.91252651 0.9950506\n",
            " 0.99731017 0.98843371 0.99679899 1.         0.98681981 0.99012825\n",
            " 0.96304156 0.93937101 0.94926969 0.923232   0.93428725 0.94184572\n",
            " 0.95750061 0.95152912 0.94684883 0.93937101 0.93883305 0.9641175\n",
            " 0.9542996  0.9515022  0.95306238 0.97654459 0.9803642  0.93635848\n",
            " 0.92019254 0.92035396 0.9094332  0.89208377 0.88339565 0.88632755\n",
            " 0.82498109 0.80668247 0.78477669 0.76026571 0.7341907  0.70739913\n",
            " 0.68054044 0.65412748 0.62858939 0.6043005  0.58158576 0.56071341\n",
            " 0.54188287 0.52521861 0.51076806 0.4985072  0.48835051 0.48016322\n",
            " 0.4737739  0.46898654 0.46559098 0.46337113]\n",
            "22 day output [[0.46211228]]\n",
            "23 day input [0.71676031 0.73141991 0.76041635 0.79043493 0.7809398  0.74271722\n",
            " 0.7413723  0.77808855 0.78236543 0.81063555 0.82798499 0.85840698\n",
            " 0.90443008 0.90962154 0.92124155 0.87734353 0.8842294  0.8617962\n",
            " 0.83032513 0.90709299 0.8939128  0.89816282 0.90469907 0.89012024\n",
            " 0.89789384 0.89442398 0.89157273 0.88716142 0.87497639 0.88966292\n",
            " 0.89743651 0.87761251 0.86975814 0.87745109 0.86989263 0.89940017\n",
            " 0.88587022 0.88796837 0.86803667 0.87287837 0.89496194 0.88611228\n",
            " 0.86741793 0.87010776 0.88336873 0.91252651 0.9950506  0.99731017\n",
            " 0.98843371 0.99679899 1.         0.98681981 0.99012825 0.96304156\n",
            " 0.93937101 0.94926969 0.923232   0.93428725 0.94184572 0.95750061\n",
            " 0.95152912 0.94684883 0.93937101 0.93883305 0.9641175  0.9542996\n",
            " 0.9515022  0.95306238 0.97654459 0.9803642  0.93635848 0.92019254\n",
            " 0.92035396 0.9094332  0.89208377 0.88339565 0.88632755 0.82498109\n",
            " 0.80668247 0.78477669 0.76026571 0.7341907  0.70739913 0.68054044\n",
            " 0.65412748 0.62858939 0.6043005  0.58158576 0.56071341 0.54188287\n",
            " 0.52521861 0.51076806 0.4985072  0.48835051 0.48016322 0.4737739\n",
            " 0.46898654 0.46559098 0.46337113 0.46211228]\n",
            "23 day output [[0.46160683]]\n",
            "24 day input [0.73141991 0.76041635 0.79043493 0.7809398  0.74271722 0.7413723\n",
            " 0.77808855 0.78236543 0.81063555 0.82798499 0.85840698 0.90443008\n",
            " 0.90962154 0.92124155 0.87734353 0.8842294  0.8617962  0.83032513\n",
            " 0.90709299 0.8939128  0.89816282 0.90469907 0.89012024 0.89789384\n",
            " 0.89442398 0.89157273 0.88716142 0.87497639 0.88966292 0.89743651\n",
            " 0.87761251 0.86975814 0.87745109 0.86989263 0.89940017 0.88587022\n",
            " 0.88796837 0.86803667 0.87287837 0.89496194 0.88611228 0.86741793\n",
            " 0.87010776 0.88336873 0.91252651 0.9950506  0.99731017 0.98843371\n",
            " 0.99679899 1.         0.98681981 0.99012825 0.96304156 0.93937101\n",
            " 0.94926969 0.923232   0.93428725 0.94184572 0.95750061 0.95152912\n",
            " 0.94684883 0.93937101 0.93883305 0.9641175  0.9542996  0.9515022\n",
            " 0.95306238 0.97654459 0.9803642  0.93635848 0.92019254 0.92035396\n",
            " 0.9094332  0.89208377 0.88339565 0.88632755 0.82498109 0.80668247\n",
            " 0.78477669 0.76026571 0.7341907  0.70739913 0.68054044 0.65412748\n",
            " 0.62858939 0.6043005  0.58158576 0.56071341 0.54188287 0.52521861\n",
            " 0.51076806 0.4985072  0.48835051 0.48016322 0.4737739  0.46898654\n",
            " 0.46559098 0.46337113 0.46211228 0.46160683]\n",
            "24 day output [[0.46165827]]\n",
            "25 day input [0.76041635 0.79043493 0.7809398  0.74271722 0.7413723  0.77808855\n",
            " 0.78236543 0.81063555 0.82798499 0.85840698 0.90443008 0.90962154\n",
            " 0.92124155 0.87734353 0.8842294  0.8617962  0.83032513 0.90709299\n",
            " 0.8939128  0.89816282 0.90469907 0.89012024 0.89789384 0.89442398\n",
            " 0.89157273 0.88716142 0.87497639 0.88966292 0.89743651 0.87761251\n",
            " 0.86975814 0.87745109 0.86989263 0.89940017 0.88587022 0.88796837\n",
            " 0.86803667 0.87287837 0.89496194 0.88611228 0.86741793 0.87010776\n",
            " 0.88336873 0.91252651 0.9950506  0.99731017 0.98843371 0.99679899\n",
            " 1.         0.98681981 0.99012825 0.96304156 0.93937101 0.94926969\n",
            " 0.923232   0.93428725 0.94184572 0.95750061 0.95152912 0.94684883\n",
            " 0.93937101 0.93883305 0.9641175  0.9542996  0.9515022  0.95306238\n",
            " 0.97654459 0.9803642  0.93635848 0.92019254 0.92035396 0.9094332\n",
            " 0.89208377 0.88339565 0.88632755 0.82498109 0.80668247 0.78477669\n",
            " 0.76026571 0.7341907  0.70739913 0.68054044 0.65412748 0.62858939\n",
            " 0.6043005  0.58158576 0.56071341 0.54188287 0.52521861 0.51076806\n",
            " 0.4985072  0.48835051 0.48016322 0.4737739  0.46898654 0.46559098\n",
            " 0.46337113 0.46211228 0.46160683 0.46165827]\n",
            "25 day output [[0.4620852]]\n",
            "26 day input [0.79043493 0.7809398  0.74271722 0.7413723  0.77808855 0.78236543\n",
            " 0.81063555 0.82798499 0.85840698 0.90443008 0.90962154 0.92124155\n",
            " 0.87734353 0.8842294  0.8617962  0.83032513 0.90709299 0.8939128\n",
            " 0.89816282 0.90469907 0.89012024 0.89789384 0.89442398 0.89157273\n",
            " 0.88716142 0.87497639 0.88966292 0.89743651 0.87761251 0.86975814\n",
            " 0.87745109 0.86989263 0.89940017 0.88587022 0.88796837 0.86803667\n",
            " 0.87287837 0.89496194 0.88611228 0.86741793 0.87010776 0.88336873\n",
            " 0.91252651 0.9950506  0.99731017 0.98843371 0.99679899 1.\n",
            " 0.98681981 0.99012825 0.96304156 0.93937101 0.94926969 0.923232\n",
            " 0.93428725 0.94184572 0.95750061 0.95152912 0.94684883 0.93937101\n",
            " 0.93883305 0.9641175  0.9542996  0.9515022  0.95306238 0.97654459\n",
            " 0.9803642  0.93635848 0.92019254 0.92035396 0.9094332  0.89208377\n",
            " 0.88339565 0.88632755 0.82498109 0.80668247 0.78477669 0.76026571\n",
            " 0.7341907  0.70739913 0.68054044 0.65412748 0.62858939 0.6043005\n",
            " 0.58158576 0.56071341 0.54188287 0.52521861 0.51076806 0.4985072\n",
            " 0.48835051 0.48016322 0.4737739  0.46898654 0.46559098 0.46337113\n",
            " 0.46211228 0.46160683 0.46165827 0.46208519]\n",
            "26 day output [[0.46272314]]\n",
            "27 day input [0.7809398  0.74271722 0.7413723  0.77808855 0.78236543 0.81063555\n",
            " 0.82798499 0.85840698 0.90443008 0.90962154 0.92124155 0.87734353\n",
            " 0.8842294  0.8617962  0.83032513 0.90709299 0.8939128  0.89816282\n",
            " 0.90469907 0.89012024 0.89789384 0.89442398 0.89157273 0.88716142\n",
            " 0.87497639 0.88966292 0.89743651 0.87761251 0.86975814 0.87745109\n",
            " 0.86989263 0.89940017 0.88587022 0.88796837 0.86803667 0.87287837\n",
            " 0.89496194 0.88611228 0.86741793 0.87010776 0.88336873 0.91252651\n",
            " 0.9950506  0.99731017 0.98843371 0.99679899 1.         0.98681981\n",
            " 0.99012825 0.96304156 0.93937101 0.94926969 0.923232   0.93428725\n",
            " 0.94184572 0.95750061 0.95152912 0.94684883 0.93937101 0.93883305\n",
            " 0.9641175  0.9542996  0.9515022  0.95306238 0.97654459 0.9803642\n",
            " 0.93635848 0.92019254 0.92035396 0.9094332  0.89208377 0.88339565\n",
            " 0.88632755 0.82498109 0.80668247 0.78477669 0.76026571 0.7341907\n",
            " 0.70739913 0.68054044 0.65412748 0.62858939 0.6043005  0.58158576\n",
            " 0.56071341 0.54188287 0.52521861 0.51076806 0.4985072  0.48835051\n",
            " 0.48016322 0.4737739  0.46898654 0.46559098 0.46337113 0.46211228\n",
            " 0.46160683 0.46165827 0.46208519 0.46272314]\n",
            "27 day output [[0.46342725]]\n",
            "28 day input [0.74271722 0.7413723  0.77808855 0.78236543 0.81063555 0.82798499\n",
            " 0.85840698 0.90443008 0.90962154 0.92124155 0.87734353 0.8842294\n",
            " 0.8617962  0.83032513 0.90709299 0.8939128  0.89816282 0.90469907\n",
            " 0.89012024 0.89789384 0.89442398 0.89157273 0.88716142 0.87497639\n",
            " 0.88966292 0.89743651 0.87761251 0.86975814 0.87745109 0.86989263\n",
            " 0.89940017 0.88587022 0.88796837 0.86803667 0.87287837 0.89496194\n",
            " 0.88611228 0.86741793 0.87010776 0.88336873 0.91252651 0.9950506\n",
            " 0.99731017 0.98843371 0.99679899 1.         0.98681981 0.99012825\n",
            " 0.96304156 0.93937101 0.94926969 0.923232   0.93428725 0.94184572\n",
            " 0.95750061 0.95152912 0.94684883 0.93937101 0.93883305 0.9641175\n",
            " 0.9542996  0.9515022  0.95306238 0.97654459 0.9803642  0.93635848\n",
            " 0.92019254 0.92035396 0.9094332  0.89208377 0.88339565 0.88632755\n",
            " 0.82498109 0.80668247 0.78477669 0.76026571 0.7341907  0.70739913\n",
            " 0.68054044 0.65412748 0.62858939 0.6043005  0.58158576 0.56071341\n",
            " 0.54188287 0.52521861 0.51076806 0.4985072  0.48835051 0.48016322\n",
            " 0.4737739  0.46898654 0.46559098 0.46337113 0.46211228 0.46160683\n",
            " 0.46165827 0.46208519 0.46272314 0.46342725]\n",
            "28 day output [[0.46407282]]\n",
            "29 day input [0.7413723  0.77808855 0.78236543 0.81063555 0.82798499 0.85840698\n",
            " 0.90443008 0.90962154 0.92124155 0.87734353 0.8842294  0.8617962\n",
            " 0.83032513 0.90709299 0.8939128  0.89816282 0.90469907 0.89012024\n",
            " 0.89789384 0.89442398 0.89157273 0.88716142 0.87497639 0.88966292\n",
            " 0.89743651 0.87761251 0.86975814 0.87745109 0.86989263 0.89940017\n",
            " 0.88587022 0.88796837 0.86803667 0.87287837 0.89496194 0.88611228\n",
            " 0.86741793 0.87010776 0.88336873 0.91252651 0.9950506  0.99731017\n",
            " 0.98843371 0.99679899 1.         0.98681981 0.99012825 0.96304156\n",
            " 0.93937101 0.94926969 0.923232   0.93428725 0.94184572 0.95750061\n",
            " 0.95152912 0.94684883 0.93937101 0.93883305 0.9641175  0.9542996\n",
            " 0.9515022  0.95306238 0.97654459 0.9803642  0.93635848 0.92019254\n",
            " 0.92035396 0.9094332  0.89208377 0.88339565 0.88632755 0.82498109\n",
            " 0.80668247 0.78477669 0.76026571 0.7341907  0.70739913 0.68054044\n",
            " 0.65412748 0.62858939 0.6043005  0.58158576 0.56071341 0.54188287\n",
            " 0.52521861 0.51076806 0.4985072  0.48835051 0.48016322 0.4737739\n",
            " 0.46898654 0.46559098 0.46337113 0.46211228 0.46160683 0.46165827\n",
            " 0.46208519 0.46272314 0.46342725 0.46407282]\n",
            "29 day output [[0.46455604]]\n",
            "[[0.8249810934066772], [0.8066824674606323], [0.7847766876220703], [0.7602657079696655], [0.7341907024383545], [0.7073991298675537], [0.6805404424667358], [0.6541274785995483], [0.628589391708374], [0.6043004989624023], [0.5815857648849487], [0.5607134103775024], [0.5418828725814819], [0.5252186059951782], [0.5107680559158325], [0.49850720167160034], [0.488350510597229], [0.48016321659088135], [0.47377389669418335], [0.46898654103279114], [0.4655909836292267], [0.4633711278438568], [0.46211227774620056], [0.46160683035850525], [0.4616582691669464], [0.46208518743515015], [0.46272313594818115], [0.46342724561691284], [0.4640728235244751], [0.4645560383796692]]\n"
          ],
          "name": "stdout"
        }
      ]
    },
    {
      "cell_type": "code",
      "metadata": {
        "id": "UBoI0IrlPpgl"
      },
      "source": [
        "day_new=np.arange(1,101)\n",
        "day_pred=np.arange(101,131)"
      ],
      "execution_count": null,
      "outputs": []
    },
    {
      "cell_type": "code",
      "metadata": {
        "id": "4Uf2RvMZW7tK",
        "colab": {
          "base_uri": "https://localhost:8080/",
          "height": 35
        },
        "outputId": "cbc878aa-6bc0-4be9-8b69-033262adf6ba"
      },
      "source": [
        "len(data_close)"
      ],
      "execution_count": null,
      "outputs": [
        {
          "output_type": "execute_result",
          "data": {
            "text/plain": [
              "1108"
            ]
          },
          "metadata": {
            "tags": []
          },
          "execution_count": 130
        }
      ]
    },
    {
      "cell_type": "code",
      "metadata": {
        "id": "9CEre3xMW7rQ",
        "colab": {
          "base_uri": "https://localhost:8080/",
          "height": 283
        },
        "outputId": "3b4fbf98-80c9-4c52-bf74-0661d8e52806"
      },
      "source": [
        "plt.plot(day_new,scaler.inverse_transform(data_close[1008:]))\n",
        "plt.plot(day_pred,scaler.inverse_transform(lst_output))"
      ],
      "execution_count": null,
      "outputs": [
        {
          "output_type": "execute_result",
          "data": {
            "text/plain": [
              "[<matplotlib.lines.Line2D at 0x7fc1521e8358>]"
            ]
          },
          "metadata": {
            "tags": []
          },
          "execution_count": 131
        },
        {
          "output_type": "display_data",
          "data": {
            "image/png": "[encoded data removed]",
            "text/plain": [
              "<Figure size 432x288 with 1 Axes>"
            ]
          },
          "metadata": {
            "tags": [],
            "needs_background": "light"
          }
        }
      ]
    },
    {
      "cell_type": "code",
      "metadata": {
        "id": "w9KTVceNW7pF",
        "colab": {
          "base_uri": "https://localhost:8080/",
          "height": 283
        },
        "outputId": "6a9d9d6c-9fd2-40d3-c0d4-b1a56352f813"
      },
      "source": [
        "df3=data_close.tolist()\n",
        "df3.extend(lst_output)\n",
        "plt.plot(df3[1058:])"
      ],
      "execution_count": null,
      "outputs": [
        {
          "output_type": "execute_result",
          "data": {
            "text/plain": [
              "[<matplotlib.lines.Line2D at 0x7fc151c57a90>]"
            ]
          },
          "metadata": {
            "tags": []
          },
          "execution_count": 133
        },
        {
          "output_type": "display_data",
          "data": {
            "image/png": "[encoded data removed]",
            "text/plain": [
              "<Figure size 432x288 with 1 Axes>"
            ]
          },
          "metadata": {
            "tags": [],
            "needs_background": "light"
          }
        }
      ]
    },
    {
      "cell_type": "code",
      "metadata": {
        "id": "tkP8u0OMZ_Hd"
      },
      "source": [
        "df3=scaler.inverse_transform(df3).tolist()"
      ],
      "execution_count": null,
      "outputs": []
    },
    {
      "cell_type": "code",
      "metadata": {
        "id": "vXFqHVOaZ_FI",
        "colab": {
          "base_uri": "https://localhost:8080/",
          "height": 283
        },
        "outputId": "cce53739-8956-4e0d-fc1c-2df1e2615427"
      },
      "source": [
        "plt.plot(df3)"
      ],
      "execution_count": null,
      "outputs": [
        {
          "output_type": "execute_result",
          "data": {
            "text/plain": [
              "[<matplotlib.lines.Line2D at 0x7fc151c93ba8>]"
            ]
          },
          "metadata": {
            "tags": []
          },
          "execution_count": 141
        },
        {
          "output_type": "display_data",
          "data": {
            "image/png": "[encoded data removed]",
            "text/plain": [
              "<Figure size 432x288 with 1 Axes>"
            ]
          },
          "metadata": {
            "tags": [],
            "needs_background": "light"
          }
        }
      ]
    },
    {
      "cell_type": "code",
      "metadata": {
        "id": "C4JrDywQa4im",
        "colab": {
          "resources": {
            "http://localhost:8080/nbextensions/google.colab/files.js": {
              "data": "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",
              "ok": true,
              "headers": [
                [
                  "content-type",
                  "application/javascript"
                ]
              ],
              "status": 200,
              "status_text": "OK"
            }
          },
          "base_uri": "https://localhost:8080/",
          "height": 75
        },
        "outputId": "8c1730fa-6b55-4fda-fb5f-8c9d146015b7"
      },
      "source": [
        "from google.colab import files\n",
        "uploaded = files.upload()\n"
      ],
      "execution_count": null,
      "outputs": [
        {
          "output_type": "display_data",
          "data": {
            "text/html": [
              "\n",
              "     <input type=\"file\" id=\"files-12107e49-46a7-40e3-a758-c21189fbd474\" name=\"files[]\" multiple disabled\n",
              "        style=\"border:none\" />\n",
              "     <output id=\"result-12107e49-46a7-40e3-a758-c21189fbd474\">\n",
              "      Upload widget is only available when the cell has been executed in the\n",
              "      current browser session. Please rerun this cell to enable.\n",
              "      </output>\n",
              "      <script src=\"/nbextensions/google.colab/files.js\"></script> "
            ],
            "text/plain": [
              "<IPython.core.display.HTML object>"
            ]
          },
          "metadata": {
            "tags": []
          }
        },
        {
          "output_type": "stream",
          "text": [
            "Saving RELIANCE.BO_pred.csv to RELIANCE.BO_pred.csv\n"
          ],
          "name": "stdout"
        }
      ]
    },
    {
      "cell_type": "code",
      "metadata": {
        "id": "6wMZLG3pa4gk"
      },
      "source": [
        "data_true= pd.read_csv('RELIANCE.BO_pred.csv')"
      ],
      "execution_count": null,
      "outputs": []
    },
    {
      "cell_type": "code",
      "metadata": {
        "id": "W8oOmiEMa4dU"
      },
      "source": [
        "#We have data from 5 Feb 2016 to 26 July 2020\n",
        "data_close_true = data_true.reset_index()['Close']        # Taking the close column of the dataset\n",
        "data_close_true = data_close_true.replace(to_replace = np.nan, value = data_close_true.mean())    # Replacing nan values with mean of the column"
      ],
      "execution_count": null,
      "outputs": []
    },
    {
      "cell_type": "code",
      "metadata": {
        "id": "0-QxosKqbuD5",
        "colab": {
          "base_uri": "https://localhost:8080/",
          "height": 283
        },
        "outputId": "1792841d-7193-4c38-cf4d-2b5136ce8a60"
      },
      "source": [
        "plt.plot(df3)"
      ],
      "execution_count": null,
      "outputs": [
        {
          "output_type": "execute_result",
          "data": {
            "text/plain": [
              "[<matplotlib.lines.Line2D at 0x7fc151bc61d0>]"
            ]
          },
          "metadata": {
            "tags": []
          },
          "execution_count": 146
        },
        {
          "output_type": "display_data",
          "data": {
            "image/png": "[encoded data removed]",
            "text/plain": [
              "<Figure size 432x288 with 1 Axes>"
            ]
          },
          "metadata": {
            "tags": [],
            "needs_background": "light"
          }
        }
      ]
    },
    {
      "cell_type": "code",
      "metadata": {
        "id": "LbdQgqTobuB5",
        "colab": {
          "base_uri": "https://localhost:8080/",
          "height": 283
        },
        "outputId": "7a80ffe0-ea05-41d8-f224-1623bbf4bbd1"
      },
      "source": [
        "plt.plot(data_close_true)"
      ],
      "execution_count": null,
      "outputs": [
        {
          "output_type": "execute_result",
          "data": {
            "text/plain": [
              "[<matplotlib.lines.Line2D at 0x7fc1519432b0>]"
            ]
          },
          "metadata": {
            "tags": []
          },
          "execution_count": 147
        },
        {
          "output_type": "display_data",
          "data": {
            "image/png": "[encoded data removed]",
            "text/plain": [
              "<Figure size 432x288 with 1 Axes>"
            ]
          },
          "metadata": {
            "tags": [],
            "needs_background": "light"
          }
        }
      ]
    },
    {
      "cell_type": "code",
      "metadata": {
        "id": "4qXnh9mHbt_t",
        "colab": {
          "base_uri": "https://localhost:8080/",
          "height": 265
        },
        "outputId": "3ce7c210-3b5f-4d35-a2cc-037408aa5774"
      },
      "source": [
        "plt.figure()\n",
        "plt.subplot(211)\n",
        "plt.plot(df3,label = 'Predicted')\n",
        "plt.subplot(212)\n",
        "plt.plot(data_close_true, label = 'Actual')\n",
        "plt.show()"
      ],
      "execution_count": null,
      "outputs": [
        {
          "output_type": "display_data",
          "data": {
            "image/png": "[encoded data removed]",
            "text/plain": [
              "<Figure size 432x288 with 2 Axes>"
            ]
          },
          "metadata": {
            "tags": [],
            "needs_background": "light"
          }
        }
      ]
    },
    {
      "cell_type": "code",
      "metadata": {
        "id": "JH2m_auxhc9v",
        "colab": {
          "base_uri": "https://localhost:8080/",
          "height": 283
        },
        "outputId": "c7e58c8c-f870-4c6a-bf5a-d31e7ada1b45"
      },
      "source": [
        "plt.plot(data_close)"
      ],
      "execution_count": null,
      "outputs": [
        {
          "output_type": "execute_result",
          "data": {
            "text/plain": [
              "[<matplotlib.lines.Line2D at 0x7fc1510f4240>]"
            ]
          },
          "metadata": {
            "tags": []
          },
          "execution_count": 161
        },
        {
          "output_type": "display_data",
          "data": {
            "image/png": "[encoded data removed]",
            "text/plain": [
              "<Figure size 432x288 with 1 Axes>"
            ]
          },
          "metadata": {
            "tags": [],
            "needs_background": "light"
          }
        }
      ]
    }
  ]
}